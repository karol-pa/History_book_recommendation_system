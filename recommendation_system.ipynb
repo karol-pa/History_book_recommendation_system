{
 "cells": [
  {
   "cell_type": "code",
   "execution_count": 345,
   "id": "324d384f-0630-4260-be20-0913f51f111c",
   "metadata": {
    "tags": []
   },
   "outputs": [
    {
     "name": "stderr",
     "output_type": "stream",
     "text": [
      "[nltk_data] Downloading package stopwords to /home/karol/nltk_data...\n",
      "[nltk_data]   Package stopwords is already up-to-date!\n"
     ]
    }
   ],
   "source": [
    "import pandas as pd\n",
    "import numpy as np\n",
    "\n",
    "import nltk\n",
    "from nltk.corpus import stopwords\n",
    "nltk.download('stopwords')\n",
    "\n",
    "import re\n",
    "\n",
    "# download list of stopwords from nltk lib.\n",
    "stop_words = set(stopwords.words('english'))\n",
    "\n",
    "import warnings\n",
    "warnings.filterwarnings('ignore')\n",
    "\n",
    "\n",
    "from sklearn.feature_extraction.text import CountVectorizer\n",
    "\n",
    "from sklearn.metrics import pairwise_distances\n",
    "\n",
    "from scipy.sparse import hstack\n",
    "\n",
    "\n",
    "pd.set_option('display.max_colwidth', None)"
   ]
  },
  {
   "cell_type": "code",
   "execution_count": 452,
   "id": "cc1e2079-96a5-484d-96b4-8802a4439075",
   "metadata": {
    "tags": []
   },
   "outputs": [],
   "source": [
    "def convert_to_string(row, column):\n",
    "    if isinstance(row[column], list):\n",
    "        # If the value is a list, join the strings using a comma\n",
    "        subject_key_str = ' '.join(row[column])\n",
    "    else:\n",
    "        # If the value is a string, just return the string itself\n",
    "        subject_key_str = row[column]\n",
    "    return subject_key_str\n",
    "\n",
    "\n",
    "def nlp_preprocessing(total_text, index, column, dataframe):\n",
    "    if type(total_text) is str:\n",
    "        string = \"\"\n",
    "        for words in total_text.split():\n",
    "            # remove the special chars like '\"#$@!%^&*()_+-~?>< etc.\n",
    "            word = (\"\".join(e for e in words if e.isalnum()))\n",
    "            # Convert all letters to lower-case\n",
    "            word = word.lower()\n",
    "            # stop-word removal\n",
    "            if not word in stop_words:\n",
    "                string += word + \" \"\n",
    "        dataframe[column][index] = string\n",
    "    else:\n",
    "        dataframe[column][index] = \"\"\n",
    "        \n",
    "        \n",
    "\n",
    "def contains(sublist, item):\n",
    "    for l in sublist:\n",
    "        if re.search(r\".*{}.*\".format(item.lower()), l.lower()):\n",
    "            return True\n",
    "    return False\n",
    "        \n",
    "    \n",
    "    \n",
    "all_names = {\n",
    "        'iran': ['iran', 'persia', 'persepolis', 'pasargad', 'elam', 'media'],\n",
    "        'iraq': ['iraq', 'mesopotamia', 'sumer', 'akkad', 'babylon', 'assyr', 'parthi', 'sassanian'],\n",
    "        'united kingdom': ['england','ireland', 'scotland', 'wales', 'london'],\n",
    "        'pakistan': ['pakistan', 'indus', 'mohendsch', 'mohenj'],\n",
    "        'greece': ['greece', 'achaea', 'aeolis', 'arcadia', 'boeotia', 'chalcidice', 'crete', 'cyprus', 'cyzicus', 'delphi', 'dodona', 'euboea', 'epirus', 'etolia', 'heracleia', 'ionia', 'laconia', 'lesbos', 'lydia', 'macedonia', 'megaris', 'messinia', 'mycenae', 'olbia', 'peloponnese', 'phocis', 'phoenicia', 'thebes', 'thessaly', 'crete'],\n",
    "        'albania': ['albania', 'dardania', 'ancient epirus'],\n",
    "        'algeria': ['algeria', 'numidia', 'roman province of mauretania'],\n",
    "        'angola': ['angola', 'kingdom of kongo'],\n",
    "        'armenia': ['armenia', 'urartu', 'arsacid empire'],\n",
    "        'austria': ['austria', 'ostmark', 'roman province of noricum'],\n",
    "        'belarus': ['belarus', 'white rus', 'slavic settlements'],\n",
    "        'belgium': ['belgium', 'belgium', 'roman province of gallia belgica', 'habsburg netherlands'],\n",
    "        'bosnia and herzegovina': ['bosnia and herzegovina', 'bosna', 'hum'],\n",
    "        'bulgaria': ['bulgaria', 'thrace', 'odysian kingdom'],\n",
    "        'croatia': ['croatia', 'panonia', 'illyria'],\n",
    "        'cyprus': ['cyprus', 'cypriot civilization', 'minoan settlements'],\n",
    "        'czechia': ['czech republic', 'czech lands', 'great moravian empire', 'bohemian kingdom'],\n",
    "        'denmark': ['denmark', 'denmark', 'vikings', 'viking age'],\n",
    "        'finland': ['finland', 'finland', 'samoyede'],\n",
    "        'france': ['france', 'gaul', 'celtic tribes', 'roman province of gaul'],\n",
    "        'georgia': ['georgia', 'iberia', 'colchis'],\n",
    "        'germany': ['germany', 'teutonic tribes', 'holy roman empire'], \n",
    "        'hungary': ['hungary', 'hungary', 'avar khaganate'],\n",
    "        'iceland': ['iceland', 'norse settlers', 'viking age'],\n",
    "        'ireland': ['ireland', 'ireland', 'celtic tribes'],\n",
    "        'italy': ['italy', 'latium', 'etruria', 'ausonia', 'enotria', 'roma', 'rome'],\n",
    "        'kazakhstan': ['kazakhstan', 'saka tribes', 'khazar khanate'],\n",
    "        'kosovo': ['kosovo', 'kosovo', 'serbian empire'],\n",
    "        'latvia': ['latvia', 'latvia', 'baltic tribes'],\n",
    "        'lithuania': ['lithuania', 'lithuania', 'baltic tribes'],\n",
    "        'luxembourg': ['luxembourg', 'grand duchy of luxembourg'],\n",
    "        'macedonia': ['macedonia', 'aegae', 'eordaia', 'upper macedonia', 'chalcidice'],\n",
    "        'north macedonia': ['macedonia', 'aegae', 'eordaia', 'upper macedonia', 'chalcidice'],\n",
    "        'moldova': ['moldova', 'dacia', 'roman province of dacia'],\n",
    "        'morocco': ['morocco', 'berber kingdoms'],\n",
    "        'netherlands': ['netherlands', 'low countries', 'frankish empire', 'dutch republic'],\n",
    "        'poland': ['poland', 'vistula river trade routes', 'polish-lithuanian commonwealth'],\n",
    "        'portugal': ['portugal', 'lusitanian tribes', 'roman province of lusitania'],\n",
    "        'romania': ['romania', 'romania', 'dacia', 'roman province of dacia'],\n",
    "        'russia': ['russia', 'scythia', 'sarmatians', 'khazar khanate'],\n",
    "        'serbia': ['serbia', 'serbia', 'serbian empire'],\n",
    "        'slovakia': ['slovakia', 'slovak lands', 'principality of nitra', 'great moravian empire'],\n",
    "        'slovenia': ['slovenia', 'slovenian lands', 'slovenia'],\n",
    "        'spain': ['spain', 'hispania', 'iberian peninsula', 'tartessian civilization', 'numidians', 'roman province of hispanial'],\n",
    "        'switzerland': ['switzerland', 'helvetian confederacy', 'roman province of helvetia'],\n",
    "        'turkey': ['turkey', 'anatolia', 'hittite empire', 'hattu', 'phrygian kingdom', 'phrygia', 'ancient greek colonies'],\n",
    "        'ukraine': ['ukraine', 'kievan rus']\n",
    "        }\n",
    "\n",
    "\n",
    "for k,i in all_names.items():\n",
    "    all_names.update({k:' '.join(all_names[k])})\n",
    "    \n",
    "    \n",
    "def collapse_column(column):\n",
    "    return 1 if any(column) else 0"
   ]
  },
  {
   "cell_type": "code",
   "execution_count": null,
   "id": "c4a5a574-2cb3-4f51-a0f5-ee4fa14fea8b",
   "metadata": {
    "tags": []
   },
   "outputs": [],
   "source": []
  },
  {
   "cell_type": "code",
   "execution_count": null,
   "id": "86a5c1ee-bf57-43ec-89e7-17da23962a40",
   "metadata": {
    "tags": []
   },
   "outputs": [],
   "source": []
  },
  {
   "cell_type": "code",
   "execution_count": 606,
   "id": "cacef032-1a2e-40a8-8c62-5c20c1c65483",
   "metadata": {
    "tags": []
   },
   "outputs": [
    {
     "data": {
      "text/html": [
       "<div>\n",
       "<style scoped>\n",
       "    .dataframe tbody tr th:only-of-type {\n",
       "        vertical-align: middle;\n",
       "    }\n",
       "\n",
       "    .dataframe tbody tr th {\n",
       "        vertical-align: top;\n",
       "    }\n",
       "\n",
       "    .dataframe thead th {\n",
       "        text-align: right;\n",
       "    }\n",
       "</style>\n",
       "<table border=\"1\" class=\"dataframe\">\n",
       "  <thead>\n",
       "    <tr style=\"text-align: right;\">\n",
       "      <th></th>\n",
       "      <th>title</th>\n",
       "      <th>author_name</th>\n",
       "      <th>first_publish_year</th>\n",
       "      <th>last_publish_year</th>\n",
       "      <th>place</th>\n",
       "      <th>place_key</th>\n",
       "      <th>subject</th>\n",
       "      <th>subject_key</th>\n",
       "      <th>person</th>\n",
       "      <th>person_key</th>\n",
       "      <th>language</th>\n",
       "      <th>isbn</th>\n",
       "      <th>key</th>\n",
       "      <th>url</th>\n",
       "    </tr>\n",
       "  </thead>\n",
       "  <tbody>\n",
       "    <tr>\n",
       "      <th>208</th>\n",
       "      <td>Persians</td>\n",
       "      <td>Lloyd Llewellyn-Jones</td>\n",
       "      <td>2022</td>\n",
       "      <td>2022</td>\n",
       "      <td>[Babylon, Egypt, Pasargadae, Persepolis]</td>\n",
       "      <td>babylon egypt pasargadae persepolis</td>\n",
       "      <td>[Persia, ancient history, Asian / Middle Eastern history]</td>\n",
       "      <td>ancienthistory asianmiddleeasternhistory persia</td>\n",
       "      <td>[Alexander, Artaxerxes, Cambyses, Cyrus, Darius, Herodotus, Xerxes]</td>\n",
       "      <td>alexander artaxerxes cambyses cyrus darius herodotus xerxes</td>\n",
       "      <td>[eng]</td>\n",
       "      <td>9781541604230</td>\n",
       "      <td>/works/OL25338087W</td>\n",
       "      <td>https://openlibrary.org/works/OL25338087W</td>\n",
       "    </tr>\n",
       "  </tbody>\n",
       "</table>\n",
       "</div>"
      ],
      "text/plain": [
       "        title            author_name  first_publish_year  last_publish_year  \\\n",
       "208  Persians  Lloyd Llewellyn-Jones                2022               2022   \n",
       "\n",
       "                                        place  \\\n",
       "208  [Babylon, Egypt, Pasargadae, Persepolis]   \n",
       "\n",
       "                                place_key  \\\n",
       "208  babylon egypt pasargadae persepolis    \n",
       "\n",
       "                                                       subject  \\\n",
       "208  [Persia, ancient history, Asian / Middle Eastern history]   \n",
       "\n",
       "                                          subject_key  \\\n",
       "208  ancienthistory asianmiddleeasternhistory persia    \n",
       "\n",
       "                                                                  person  \\\n",
       "208  [Alexander, Artaxerxes, Cambyses, Cyrus, Darius, Herodotus, Xerxes]   \n",
       "\n",
       "                                                       person_key language  \\\n",
       "208  alexander artaxerxes cambyses cyrus darius herodotus xerxes     [eng]   \n",
       "\n",
       "              isbn                 key  \\\n",
       "208  9781541604230  /works/OL25338087W   \n",
       "\n",
       "                                           url  \n",
       "208  https://openlibrary.org/works/OL25338087W  "
      ]
     },
     "execution_count": 606,
     "metadata": {},
     "output_type": "execute_result"
    }
   ],
   "source": [
    "#read full book list and process subject_key text column\n",
    "\n",
    "df = pd.read_json('data/downloaded.json')\n",
    "\n",
    "\n",
    "# Apply convert_to_string function to each row of the 'subject_key' column\n",
    "df['subject_key'] = df.apply(convert_to_string, args=('subject_key',), axis=1)\n",
    "df['place_key'] = df.apply(convert_to_string, args=('place_key',), axis=1)\n",
    "df['person_key'] = df.apply(convert_to_string, args=('person_key',), axis=1)\n",
    "\n",
    "for index, row in df.iterrows():\n",
    "    nlp_preprocessing(row['subject_key'], index, 'subject_key',df)\n",
    "for index, row in df.iterrows():\n",
    "    nlp_preprocessing(row['place_key'], index, 'place_key',df)\n",
    "for index, row in df.iterrows():\n",
    "    nlp_preprocessing(row['person_key'], index, 'person_key',df)\n",
    "    \n",
    "df=df.reset_index(drop=True)\n",
    "\n",
    "df.iloc[[208]]"
   ]
  },
  {
   "cell_type": "code",
   "execution_count": 455,
   "id": "d9169031-eb32-4fc4-a699-e943edbfa736",
   "metadata": {
    "tags": []
   },
   "outputs": [],
   "source": [
    "#df[df['person'].fillna('').apply(contains, item='alexa')]\n"
   ]
  },
  {
   "cell_type": "code",
   "execution_count": 456,
   "id": "1a268ff8-075e-4e44-b3ea-d01d277fb47f",
   "metadata": {
    "tags": []
   },
   "outputs": [],
   "source": [
    "#all_subjects=''\n",
    "#for i in df['subject_key']:\n",
    "#    all_subjects+=i"
   ]
  },
  {
   "cell_type": "code",
   "execution_count": null,
   "id": "7866b0e1-7729-423d-9acf-c83f910b6452",
   "metadata": {
    "tags": []
   },
   "outputs": [],
   "source": []
  },
  {
   "cell_type": "code",
   "execution_count": null,
   "id": "253bd56e-4876-40e8-a626-3b00de143117",
   "metadata": {
    "tags": []
   },
   "outputs": [],
   "source": [
    "\n",
    "\n"
   ]
  },
  {
   "cell_type": "code",
   "execution_count": 608,
   "id": "d1962c8d-d268-4b04-9ead-2b6a99b9ffd9",
   "metadata": {
    "tags": []
   },
   "outputs": [
    {
     "data": {
      "text/html": [
       "<div>\n",
       "<style scoped>\n",
       "    .dataframe tbody tr th:only-of-type {\n",
       "        vertical-align: middle;\n",
       "    }\n",
       "\n",
       "    .dataframe tbody tr th {\n",
       "        vertical-align: top;\n",
       "    }\n",
       "\n",
       "    .dataframe thead th {\n",
       "        text-align: right;\n",
       "    }\n",
       "</style>\n",
       "<table border=\"1\" class=\"dataframe\">\n",
       "  <thead>\n",
       "    <tr style=\"text-align: right;\">\n",
       "      <th></th>\n",
       "      <th>title</th>\n",
       "      <th>author_name</th>\n",
       "      <th>first_publish_year</th>\n",
       "      <th>last_publish_year</th>\n",
       "      <th>place</th>\n",
       "      <th>place_key</th>\n",
       "      <th>subject</th>\n",
       "      <th>subject_key</th>\n",
       "      <th>person</th>\n",
       "      <th>person_key</th>\n",
       "      <th>language</th>\n",
       "      <th>isbn</th>\n",
       "      <th>key</th>\n",
       "      <th>url</th>\n",
       "      <th>favorite</th>\n",
       "    </tr>\n",
       "  </thead>\n",
       "  <tbody>\n",
       "    <tr>\n",
       "      <th>208</th>\n",
       "      <td>Persians</td>\n",
       "      <td>Lloyd Llewellyn-Jones</td>\n",
       "      <td>2022</td>\n",
       "      <td>2022</td>\n",
       "      <td>Babylon,Egypt,Pasargadae,Persepolis</td>\n",
       "      <td>babylon egypt pasargadae persepolis</td>\n",
       "      <td>Persia,ancient history,Asian / Middle Eastern history</td>\n",
       "      <td>ancienthistory asianmiddleeasternhistory persia</td>\n",
       "      <td>Alexander,Artaxerxes,Cambyses,Cyrus,Darius,Herodotus,Xerxes</td>\n",
       "      <td>alexander artaxerxes cambyses cyrus darius herodotus xerxes</td>\n",
       "      <td>eng</td>\n",
       "      <td>9781541604230</td>\n",
       "      <td>/works/OL25338087W</td>\n",
       "      <td>https://openlibrary.org/works/OL25338087W</td>\n",
       "      <td>True</td>\n",
       "    </tr>\n",
       "  </tbody>\n",
       "</table>\n",
       "</div>"
      ],
      "text/plain": [
       "        title            author_name  first_publish_year  last_publish_year  \\\n",
       "208  Persians  Lloyd Llewellyn-Jones                2022               2022   \n",
       "\n",
       "                                   place  \\\n",
       "208  Babylon,Egypt,Pasargadae,Persepolis   \n",
       "\n",
       "                                place_key  \\\n",
       "208  babylon egypt pasargadae persepolis    \n",
       "\n",
       "                                                   subject  \\\n",
       "208  Persia,ancient history,Asian / Middle Eastern history   \n",
       "\n",
       "                                          subject_key  \\\n",
       "208  ancienthistory asianmiddleeasternhistory persia    \n",
       "\n",
       "                                                          person  \\\n",
       "208  Alexander,Artaxerxes,Cambyses,Cyrus,Darius,Herodotus,Xerxes   \n",
       "\n",
       "                                                       person_key language  \\\n",
       "208  alexander artaxerxes cambyses cyrus darius herodotus xerxes       eng   \n",
       "\n",
       "              isbn                 key  \\\n",
       "208  9781541604230  /works/OL25338087W   \n",
       "\n",
       "                                           url  favorite  \n",
       "208  https://openlibrary.org/works/OL25338087W      True  "
      ]
     },
     "execution_count": 608,
     "metadata": {},
     "output_type": "execute_result"
    }
   ],
   "source": [
    "#read selected favorie book list and process subject_key text column\n",
    "\n",
    "df_fav = pd.read_csv('data/my_favs.csv')\n",
    "df_fav= df_fav.set_index('Unnamed: 0')\n",
    "df_fav.index.name = None\n",
    "\n",
    "#fav_subjects=''\n",
    "#for i in df_fav['subject_key']:\n",
    "#    fav_subjects+=i\n",
    " #print(fav_subjects)   \n",
    "    \n",
    "df_fav[\"subject_key\"] = df_fav[\"subject_key\"].str.replace(\",\",\" \")\n",
    "df_fav[\"place_key\"] = df_fav[\"place_key\"].str.replace(\",\",\" \")\n",
    "df_fav[\"person_key\"] = df_fav[\"person_key\"].str.replace(\",\",\" \")\n",
    "\n",
    "for index, row in df_fav.iterrows():\n",
    "    nlp_preprocessing(row['subject_key'], index, 'subject_key',df_fav)\n",
    "for index, row in df_fav.iterrows():\n",
    "    nlp_preprocessing(row['place_key'], index, 'place_key',df_fav)\n",
    "for index, row in df_fav.iterrows():\n",
    "    nlp_preprocessing(row['person_key'], index, 'person_key',df_fav)\n",
    "    \n",
    "    \n",
    "df_fav.head(1)\n",
    "    \n",
    "\n",
    "\n"
   ]
  },
  {
   "cell_type": "code",
   "execution_count": 609,
   "id": "a5dfd0f7-4c7f-49ed-a3ec-882965d019ee",
   "metadata": {
    "tags": []
   },
   "outputs": [
    {
     "data": {
      "text/html": [
       "<div>\n",
       "<style scoped>\n",
       "    .dataframe tbody tr th:only-of-type {\n",
       "        vertical-align: middle;\n",
       "    }\n",
       "\n",
       "    .dataframe tbody tr th {\n",
       "        vertical-align: top;\n",
       "    }\n",
       "\n",
       "    .dataframe thead th {\n",
       "        text-align: right;\n",
       "    }\n",
       "</style>\n",
       "<table border=\"1\" class=\"dataframe\">\n",
       "  <thead>\n",
       "    <tr style=\"text-align: right;\">\n",
       "      <th></th>\n",
       "      <th>title</th>\n",
       "      <th>author_name</th>\n",
       "      <th>first_publish_year</th>\n",
       "      <th>last_publish_year</th>\n",
       "      <th>place</th>\n",
       "      <th>place_key</th>\n",
       "      <th>subject</th>\n",
       "      <th>subject_key</th>\n",
       "      <th>person</th>\n",
       "      <th>person_key</th>\n",
       "      <th>language</th>\n",
       "      <th>isbn</th>\n",
       "      <th>key</th>\n",
       "      <th>url</th>\n",
       "    </tr>\n",
       "  </thead>\n",
       "  <tbody>\n",
       "    <tr>\n",
       "      <th>208</th>\n",
       "      <td>Persians</td>\n",
       "      <td>Lloyd Llewellyn-Jones</td>\n",
       "      <td>2022</td>\n",
       "      <td>2022</td>\n",
       "      <td>[Babylon, Egypt, Pasargadae, Persepolis]</td>\n",
       "      <td>babylon egypt pasargadae persepolis</td>\n",
       "      <td>[Persia, ancient history, Asian / Middle Eastern history]</td>\n",
       "      <td>ancienthistory asianmiddleeasternhistory persia</td>\n",
       "      <td>[Alexander, Artaxerxes, Cambyses, Cyrus, Darius, Herodotus, Xerxes]</td>\n",
       "      <td>alexander artaxerxes cambyses cyrus darius herodotus xerxes</td>\n",
       "      <td>[eng]</td>\n",
       "      <td>9781541604230</td>\n",
       "      <td>/works/OL25338087W</td>\n",
       "      <td>https://openlibrary.org/works/OL25338087W</td>\n",
       "    </tr>\n",
       "  </tbody>\n",
       "</table>\n",
       "</div>"
      ],
      "text/plain": [
       "        title            author_name  first_publish_year  last_publish_year  \\\n",
       "208  Persians  Lloyd Llewellyn-Jones                2022               2022   \n",
       "\n",
       "                                        place  \\\n",
       "208  [Babylon, Egypt, Pasargadae, Persepolis]   \n",
       "\n",
       "                                place_key  \\\n",
       "208  babylon egypt pasargadae persepolis    \n",
       "\n",
       "                                                       subject  \\\n",
       "208  [Persia, ancient history, Asian / Middle Eastern history]   \n",
       "\n",
       "                                          subject_key  \\\n",
       "208  ancienthistory asianmiddleeasternhistory persia    \n",
       "\n",
       "                                                                  person  \\\n",
       "208  [Alexander, Artaxerxes, Cambyses, Cyrus, Darius, Herodotus, Xerxes]   \n",
       "\n",
       "                                                       person_key language  \\\n",
       "208  alexander artaxerxes cambyses cyrus darius herodotus xerxes     [eng]   \n",
       "\n",
       "              isbn                 key  \\\n",
       "208  9781541604230  /works/OL25338087W   \n",
       "\n",
       "                                           url  \n",
       "208  https://openlibrary.org/works/OL25338087W  "
      ]
     },
     "execution_count": 609,
     "metadata": {},
     "output_type": "execute_result"
    }
   ],
   "source": [
    "\n",
    "df.iloc[[208]]"
   ]
  },
  {
   "cell_type": "code",
   "execution_count": 610,
   "id": "e92a31e0-49b1-473e-b9ba-5b15bb601722",
   "metadata": {
    "tags": []
   },
   "outputs": [],
   "source": [
    "df=df[~df.index.isin(df_fav.index)]"
   ]
  },
  {
   "cell_type": "code",
   "execution_count": 611,
   "id": "2a2ad960-ad7d-48a7-a8e2-59565bf345ab",
   "metadata": {
    "tags": []
   },
   "outputs": [
    {
     "data": {
      "text/html": [
       "<div>\n",
       "<style scoped>\n",
       "    .dataframe tbody tr th:only-of-type {\n",
       "        vertical-align: middle;\n",
       "    }\n",
       "\n",
       "    .dataframe tbody tr th {\n",
       "        vertical-align: top;\n",
       "    }\n",
       "\n",
       "    .dataframe thead th {\n",
       "        text-align: right;\n",
       "    }\n",
       "</style>\n",
       "<table border=\"1\" class=\"dataframe\">\n",
       "  <thead>\n",
       "    <tr style=\"text-align: right;\">\n",
       "      <th></th>\n",
       "      <th>title</th>\n",
       "      <th>author_name</th>\n",
       "      <th>first_publish_year</th>\n",
       "      <th>last_publish_year</th>\n",
       "      <th>place</th>\n",
       "      <th>place_key</th>\n",
       "      <th>subject</th>\n",
       "      <th>subject_key</th>\n",
       "      <th>person</th>\n",
       "      <th>person_key</th>\n",
       "      <th>language</th>\n",
       "      <th>isbn</th>\n",
       "      <th>key</th>\n",
       "      <th>url</th>\n",
       "    </tr>\n",
       "  </thead>\n",
       "  <tbody>\n",
       "    <tr>\n",
       "      <th>209</th>\n",
       "      <td>Time in Antiquity</td>\n",
       "      <td>Robert Hannah</td>\n",
       "      <td>2000</td>\n",
       "      <td>2009</td>\n",
       "      <td>None</td>\n",
       "      <td></td>\n",
       "      <td>[Ancient Civilization, History, Social aspects of Time, Time, Time measurements, Classical Civilization, Temps, Histoire, Aspect social, Mesure, Civilisation ancienne, SCIENCE, Social aspects]</td>\n",
       "      <td>ancientcivilization aspectsocial civilisationancienne classicalcivilization histoire history mesure science socialaspects socialaspectsoftime temps time timemeasurements</td>\n",
       "      <td>None</td>\n",
       "      <td></td>\n",
       "      <td>[eng]</td>\n",
       "      <td>1134323131</td>\n",
       "      <td>/works/OL8371761W</td>\n",
       "      <td>https://openlibrary.org/works/OL8371761W</td>\n",
       "    </tr>\n",
       "  </tbody>\n",
       "</table>\n",
       "</div>"
      ],
      "text/plain": [
       "                 title    author_name  first_publish_year  last_publish_year  \\\n",
       "209  Time in Antiquity  Robert Hannah                2000               2009   \n",
       "\n",
       "    place place_key  \\\n",
       "209  None             \n",
       "\n",
       "                                                                                                                                                                                              subject  \\\n",
       "209  [Ancient Civilization, History, Social aspects of Time, Time, Time measurements, Classical Civilization, Temps, Histoire, Aspect social, Mesure, Civilisation ancienne, SCIENCE, Social aspects]   \n",
       "\n",
       "                                                                                                                                                                    subject_key  \\\n",
       "209  ancientcivilization aspectsocial civilisationancienne classicalcivilization histoire history mesure science socialaspects socialaspectsoftime temps time timemeasurements    \n",
       "\n",
       "    person person_key language        isbn                key  \\\n",
       "209   None               [eng]  1134323131  /works/OL8371761W   \n",
       "\n",
       "                                          url  \n",
       "209  https://openlibrary.org/works/OL8371761W  "
      ]
     },
     "execution_count": 611,
     "metadata": {},
     "output_type": "execute_result"
    }
   ],
   "source": [
    "\n",
    "df.iloc[[208]]"
   ]
  },
  {
   "cell_type": "code",
   "execution_count": 612,
   "id": "83578dff-9839-4b1a-9559-f9c26bc78919",
   "metadata": {
    "tags": []
   },
   "outputs": [
    {
     "data": {
      "text/plain": [
       "0                       greece \n",
       "1                              \n",
       "2       greece rome romeempire \n",
       "3                              \n",
       "4                       russia \n",
       "                 ...           \n",
       "4896                     texas \n",
       "4897                           \n",
       "4898                           \n",
       "4899                           \n",
       "4900                           \n",
       "Name: place_key, Length: 4899, dtype: object"
      ]
     },
     "execution_count": 612,
     "metadata": {},
     "output_type": "execute_result"
    }
   ],
   "source": [
    "df['place_key']"
   ]
  },
  {
   "cell_type": "code",
   "execution_count": 613,
   "id": "ad625d47-8ba4-4074-803a-3e0962a021b6",
   "metadata": {
    "tags": []
   },
   "outputs": [],
   "source": [
    "df['place_key']=df['place_key'].replace(all_names, regex=True)"
   ]
  },
  {
   "cell_type": "code",
   "execution_count": 614,
   "id": "4cc1c472-7067-45cf-b84b-b0bc711895b8",
   "metadata": {
    "tags": []
   },
   "outputs": [
    {
     "data": {
      "text/plain": [
       "0                       greece achaea aeolis arcadia boeotia chalcidice crete cyprus cyzicus delphi dodona euboea epirus etolia heracleia ionia laconia lesbos lydia macedonia megaris messinia mycenae olbia peloponnese phocis phoenicia thebes thessaly crete \n",
       "1                                                                                                                                                                                                                                                                \n",
       "2       greece achaea aeolis arcadia boeotia chalcidice crete cyprus cyzicus delphi dodona euboea epirus etolia heracleia ionia laconia lesbos lydia macedonia megaris messinia mycenae olbia peloponnese phocis phoenicia thebes thessaly crete rome romeempire \n",
       "3                                                                                                                                                                                                                                                                \n",
       "4                                                                                                                                                                                                                       russia scythia sarmatians khazar khanate \n",
       "                                                                                                                                  ...                                                                                                                            \n",
       "4896                                                                                                                                                                                                                                                       texas \n",
       "4897                                                                                                                                                                                                                                                             \n",
       "4898                                                                                                                                                                                                                                                             \n",
       "4899                                                                                                                                                                                                                                                             \n",
       "4900                                                                                                                                                                                                                                                             \n",
       "Name: place_key, Length: 4899, dtype: object"
      ]
     },
     "execution_count": 614,
     "metadata": {},
     "output_type": "execute_result"
    }
   ],
   "source": [
    "df['place_key']"
   ]
  },
  {
   "cell_type": "code",
   "execution_count": 615,
   "id": "f1919911-59a9-42aa-849c-79380f994240",
   "metadata": {
    "tags": []
   },
   "outputs": [
    {
     "data": {
      "text/plain": [
       "208    babylon egypt pasargadae persepolis \n",
       "866                                   iraq \n",
       "Name: place_key, dtype: object"
      ]
     },
     "execution_count": 615,
     "metadata": {},
     "output_type": "execute_result"
    }
   ],
   "source": [
    "df_fav['place_key']"
   ]
  },
  {
   "cell_type": "code",
   "execution_count": 616,
   "id": "b66db2f7-cfb8-4cb0-adcf-f7ea81fd87c3",
   "metadata": {
    "tags": []
   },
   "outputs": [],
   "source": [
    "df_fav['place_key']=df_fav['place_key'].replace(all_names, regex=True)"
   ]
  },
  {
   "cell_type": "code",
   "execution_count": 617,
   "id": "1f3a1dff-cfe4-4a0b-94d2-6e6b00a29019",
   "metadata": {
    "tags": []
   },
   "outputs": [
    {
     "data": {
      "text/plain": [
       "208                            babylon egypt pasargadae persepolis \n",
       "866    iraq mesopotamia sumer akkad babylon assyr parthi sassanian \n",
       "Name: place_key, dtype: object"
      ]
     },
     "execution_count": 617,
     "metadata": {},
     "output_type": "execute_result"
    }
   ],
   "source": [
    "df_fav['place_key']"
   ]
  },
  {
   "cell_type": "markdown",
   "id": "b65325cc-b8aa-49b6-81f7-a583e188cb9a",
   "metadata": {},
   "source": [
    "# Create Bag of Words"
   ]
  },
  {
   "cell_type": "code",
   "execution_count": 618,
   "id": "1573b009-27d9-4148-a5aa-1ecf3aea84e7",
   "metadata": {
    "tags": []
   },
   "outputs": [
    {
     "name": "stdout",
     "output_type": "stream",
     "text": [
      "(4899, 9872)\n",
      "(4899, 624)\n",
      "(4899, 401)\n",
      "(4899, 10897)\n"
     ]
    }
   ],
   "source": [
    "subject_key_vectorizer = CountVectorizer()\n",
    "subject_key_features   = subject_key_vectorizer.fit_transform(df['subject_key'])\n",
    "print( subject_key_features.get_shape() ) \n",
    "\n",
    "place_key_vectorizer = CountVectorizer()\n",
    "place_key_features   = place_key_vectorizer.fit_transform(df['place_key'])\n",
    "print( place_key_features.get_shape() ) \n",
    "\n",
    "person_key_vectorizer = CountVectorizer()\n",
    "person_key_features   = person_key_vectorizer.fit_transform(df['person_key'])\n",
    "print( person_key_features.get_shape() )\n",
    "\n",
    "all_features_df = hstack((subject_key_features, place_key_features,person_key_features)).tocsr()\n",
    "print(all_features_df.get_shape() )"
   ]
  },
  {
   "cell_type": "markdown",
   "id": "cf60aa4f-ab45-4bb0-bd76-3f79547cd318",
   "metadata": {
    "tags": []
   },
   "source": [
    "## create a matrix from df_fav and combine all rows together"
   ]
  },
  {
   "cell_type": "code",
   "execution_count": 619,
   "id": "ffa5e090-64df-4288-887b-e1272c68d88c",
   "metadata": {
    "tags": []
   },
   "outputs": [
    {
     "name": "stdout",
     "output_type": "stream",
     "text": [
      "(2, 9872)\n",
      "(2, 624)\n",
      "(2, 401)\n",
      "(2, 10897)\n"
     ]
    }
   ],
   "source": [
    "subject_key_features   = subject_key_vectorizer.transform(df_fav['subject_key'])\n",
    "print( subject_key_features.get_shape() ) \n",
    "\n",
    "place_key_features   = place_key_vectorizer.transform(df_fav['place_key'])\n",
    "print( place_key_features.get_shape() ) \n",
    "\n",
    "person_key_features   = person_key_vectorizer.transform(df_fav['person_key'])\n",
    "print( person_key_features.get_shape() )\n",
    "\n",
    "all_features_df_fav = hstack((subject_key_features, place_key_features,person_key_features)).tocsr()\n",
    "print(all_features_df_fav.get_shape() )"
   ]
  },
  {
   "cell_type": "code",
   "execution_count": 620,
   "id": "c17c21dc-11ec-4802-aae6-46d13faafa01",
   "metadata": {
    "tags": []
   },
   "outputs": [
    {
     "data": {
      "text/plain": [
       "(array([0, 0, 0, 0, 0, 0, 1, 1, 1, 1, 1, 1, 1, 1, 1, 1, 1, 1, 1, 1, 1, 1,\n",
       "        1, 1], dtype=int32),\n",
       " array([  373,   896,  9945, 10053, 10319, 10683,   410,   524,  1103,\n",
       "         1879,  4202,  4370,  4824,  5973,  8558,  8567,  9887,  9929,\n",
       "         9945, 10144, 10241, 10313, 10369, 10407], dtype=int32))"
      ]
     },
     "execution_count": 620,
     "metadata": {},
     "output_type": "execute_result"
    }
   ],
   "source": [
    "all_features_df_fav.nonzero()"
   ]
  },
  {
   "cell_type": "code",
   "execution_count": null,
   "id": "67ea2f89-896b-4c39-bf37-6d8094986c9d",
   "metadata": {
    "tags": []
   },
   "outputs": [],
   "source": []
  },
  {
   "cell_type": "code",
   "execution_count": 621,
   "id": "62ff5321-f601-46a7-ba02-1fa600cd7a6d",
   "metadata": {
    "tags": []
   },
   "outputs": [
    {
     "name": "stdout",
     "output_type": "stream",
     "text": [
      "[[0 0 1 0 0]]\n"
     ]
    }
   ],
   "source": [
    "\n",
    "# Collapse each column into a matrix of a single row\n",
    "collapsed_matrix = np.array([[collapse_column(i) for i in all_features_df_fav.toarray().T]])\n",
    "\n",
    "print(collapsed_matrix[:,371:376])\n"
   ]
  },
  {
   "cell_type": "code",
   "execution_count": 622,
   "id": "cd60ab6f-9b95-4b60-9cf6-c3d2d7706b11",
   "metadata": {
    "tags": []
   },
   "outputs": [
    {
     "data": {
      "text/plain": [
       "Index([], dtype='int64')"
      ]
     },
     "execution_count": 622,
     "metadata": {},
     "output_type": "execute_result"
    }
   ],
   "source": [
    "df[df.index.isin(df_fav.index)].index"
   ]
  },
  {
   "cell_type": "markdown",
   "id": "cd00d90b-00ae-435f-8afb-29eef2764521",
   "metadata": {
    "tags": []
   },
   "source": [
    "## Make recommendations"
   ]
  },
  {
   "cell_type": "code",
   "execution_count": 624,
   "id": "26d5aa33-19c6-4901-94ca-0c392936cf10",
   "metadata": {
    "tags": []
   },
   "outputs": [
    {
     "data": {
      "text/html": [
       "<div>\n",
       "<style scoped>\n",
       "    .dataframe tbody tr th:only-of-type {\n",
       "        vertical-align: middle;\n",
       "    }\n",
       "\n",
       "    .dataframe tbody tr th {\n",
       "        vertical-align: top;\n",
       "    }\n",
       "\n",
       "    .dataframe thead th {\n",
       "        text-align: right;\n",
       "    }\n",
       "</style>\n",
       "<table border=\"1\" class=\"dataframe\">\n",
       "  <thead>\n",
       "    <tr style=\"text-align: right;\">\n",
       "      <th></th>\n",
       "      <th>title</th>\n",
       "      <th>author_name</th>\n",
       "      <th>first_publish_year</th>\n",
       "      <th>last_publish_year</th>\n",
       "      <th>place</th>\n",
       "      <th>place_key</th>\n",
       "      <th>subject</th>\n",
       "      <th>subject_key</th>\n",
       "      <th>person</th>\n",
       "      <th>person_key</th>\n",
       "      <th>language</th>\n",
       "      <th>isbn</th>\n",
       "      <th>key</th>\n",
       "      <th>url</th>\n",
       "    </tr>\n",
       "  </thead>\n",
       "  <tbody>\n",
       "    <tr>\n",
       "      <th>3197</th>\n",
       "      <td>From Mesopotamia to Iraq</td>\n",
       "      <td>Hans Jörg Nissen</td>\n",
       "      <td>2009</td>\n",
       "      <td>2009</td>\n",
       "      <td>[Iraq]</td>\n",
       "      <td>iraq mesopotamia sumer akkad babylon assyr parthi sassanian</td>\n",
       "      <td>[Civilization, History, Historia, Ancient History, Iraq, history, to 634, Iran, civilization]</td>\n",
       "      <td>ancienthistory civilization historia history irancivilization iraqhistoryto634</td>\n",
       "      <td>None</td>\n",
       "      <td></td>\n",
       "      <td>[eng]</td>\n",
       "      <td>9780226586632</td>\n",
       "      <td>/works/OL784385W</td>\n",
       "      <td>https://openlibrary.org/works/OL784385W</td>\n",
       "    </tr>\n",
       "    <tr>\n",
       "      <th>2213</th>\n",
       "      <td>Iraq</td>\n",
       "      <td>Michael Wood</td>\n",
       "      <td>2002</td>\n",
       "      <td>2002</td>\n",
       "      <td>[Iraq, India]</td>\n",
       "      <td>india iraq mesopotamia sumer akkad babylon assyr parthi sassanian</td>\n",
       "      <td>[Ancient Civilization, History, Civilization]</td>\n",
       "      <td>ancientcivilization civilization history</td>\n",
       "      <td>None</td>\n",
       "      <td></td>\n",
       "      <td>[eng]</td>\n",
       "      <td>A</td>\n",
       "      <td>/works/OL34727429W</td>\n",
       "      <td>https://openlibrary.org/works/OL34727429W</td>\n",
       "    </tr>\n",
       "    <tr>\n",
       "      <th>1560</th>\n",
       "      <td>Mesopotamia</td>\n",
       "      <td>Gwendolyn Leick</td>\n",
       "      <td>2001</td>\n",
       "      <td>2002</td>\n",
       "      <td>[Iraq]</td>\n",
       "      <td>iraq mesopotamia sumer akkad babylon assyr parthi sassanian</td>\n",
       "      <td>[Civilization, Ancient Cities and towns, Iraq, history, to 634, Asia, history, Iraq, antiquities, History]</td>\n",
       "      <td>ancientcitiesandtowns asiahistory civilization history iraqantiquities iraqhistoryto634</td>\n",
       "      <td>None</td>\n",
       "      <td></td>\n",
       "      <td>[eng, spa]</td>\n",
       "      <td>9780140265743</td>\n",
       "      <td>/works/OL3961855W</td>\n",
       "      <td>https://openlibrary.org/works/OL3961855W</td>\n",
       "    </tr>\n",
       "    <tr>\n",
       "      <th>1828</th>\n",
       "      <td>Engraved on Stone</td>\n",
       "      <td>Rony Feingold</td>\n",
       "      <td>2014</td>\n",
       "      <td>2014</td>\n",
       "      <td>[Iraq]</td>\n",
       "      <td>iraq mesopotamia sumer akkad babylon assyr parthi sassanian</td>\n",
       "      <td>[Cylinder seals, Antiquities, History, Cuneiform inscriptions, History, ancient]</td>\n",
       "      <td>antiquities cuneiforminscriptions cylinderseals history historyancient</td>\n",
       "      <td>None</td>\n",
       "      <td></td>\n",
       "      <td>[eng]</td>\n",
       "      <td>9781463201678</td>\n",
       "      <td>/works/OL20955055W</td>\n",
       "      <td>https://openlibrary.org/works/OL20955055W</td>\n",
       "    </tr>\n",
       "    <tr>\n",
       "      <th>2769</th>\n",
       "      <td>Mesopotamian sculpture in colour</td>\n",
       "      <td>N</td>\n",
       "      <td>2020</td>\n",
       "      <td>2020</td>\n",
       "      <td>[Iraq]</td>\n",
       "      <td>iraq mesopotamia sumer akkad babylon assyr parthi sassanian</td>\n",
       "      <td>[Polychromy, History, Antiquities, Ancient Sculpture, Aesthetics]</td>\n",
       "      <td>aesthetics ancientsculpture antiquities history polychromy</td>\n",
       "      <td>None</td>\n",
       "      <td></td>\n",
       "      <td>[eng]</td>\n",
       "      <td>393501242X</td>\n",
       "      <td>/works/OL32309789W</td>\n",
       "      <td>https://openlibrary.org/works/OL32309789W</td>\n",
       "    </tr>\n",
       "    <tr>\n",
       "      <th>3244</th>\n",
       "      <td>Mesopotamian medicine and magic</td>\n",
       "      <td>Markham J. Geller</td>\n",
       "      <td>2018</td>\n",
       "      <td>2018</td>\n",
       "      <td>[Iraq]</td>\n",
       "      <td>iraq mesopotamia sumer akkad babylon assyr parthi sassanian</td>\n",
       "      <td>[Medicine, Assyro-Babylonian, Ancient Medicine, Cuneiform tablets, History]</td>\n",
       "      <td>ancientmedicine cuneiformtablets history medicineassyrobabylonian</td>\n",
       "      <td>None</td>\n",
       "      <td></td>\n",
       "      <td>[eng]</td>\n",
       "      <td>9789004368064</td>\n",
       "      <td>/works/OL32471087W</td>\n",
       "      <td>https://openlibrary.org/works/OL32471087W</td>\n",
       "    </tr>\n",
       "    <tr>\n",
       "      <th>1293</th>\n",
       "      <td>Rituals of war</td>\n",
       "      <td>Zainab Bahrani</td>\n",
       "      <td>2008</td>\n",
       "      <td>2008</td>\n",
       "      <td>[Iraq]</td>\n",
       "      <td>iraq mesopotamia sumer akkad babylon assyr parthi sassanian</td>\n",
       "      <td>[Ancient History, Ancient Military history, History, History, Ancient, Military history, Ancient, War]</td>\n",
       "      <td>ancienthistory ancientmilitaryhistory history historyancient militaryhistoryancient war</td>\n",
       "      <td>None</td>\n",
       "      <td></td>\n",
       "      <td>[eng]</td>\n",
       "      <td>9781890951849</td>\n",
       "      <td>/works/OL12292502W</td>\n",
       "      <td>https://openlibrary.org/works/OL12292502W</td>\n",
       "    </tr>\n",
       "    <tr>\n",
       "      <th>1832</th>\n",
       "      <td>Mathematics in ancient Iraq</td>\n",
       "      <td>Eleanor Robson</td>\n",
       "      <td>2008</td>\n",
       "      <td>2008</td>\n",
       "      <td>[Iraq]</td>\n",
       "      <td>iraq mesopotamia sumer akkad babylon assyr parthi sassanian</td>\n",
       "      <td>[History, Mathematics, Ancient Mathematics, Mathematics, history, Education, iraq]</td>\n",
       "      <td>ancientmathematics educationiraq history mathematics mathematicshistory</td>\n",
       "      <td>None</td>\n",
       "      <td></td>\n",
       "      <td>[eng]</td>\n",
       "      <td>0691201404</td>\n",
       "      <td>/works/OL1956129W</td>\n",
       "      <td>https://openlibrary.org/works/OL1956129W</td>\n",
       "    </tr>\n",
       "    <tr>\n",
       "      <th>3150</th>\n",
       "      <td>Models of Mesopotamian landscapes</td>\n",
       "      <td>Wilkinson, T. J.</td>\n",
       "      <td>2013</td>\n",
       "      <td>2013</td>\n",
       "      <td>[Iraq]</td>\n",
       "      <td>iraq mesopotamia sumer akkad babylon assyr parthi sassanian</td>\n",
       "      <td>[Civilization, Human settlements, History, Ancient Civilization, Computer simulation, Civilization, ancient, Iraq, social life and customs]</td>\n",
       "      <td>ancientcivilization civilization civilizationancient computersimulation history humansettlements iraqsociallifeandcustoms</td>\n",
       "      <td>None</td>\n",
       "      <td></td>\n",
       "      <td>[eng]</td>\n",
       "      <td>1407311735</td>\n",
       "      <td>/works/OL23153475W</td>\n",
       "      <td>https://openlibrary.org/works/OL23153475W</td>\n",
       "    </tr>\n",
       "    <tr>\n",
       "      <th>3821</th>\n",
       "      <td>Mesopotamian furniture</td>\n",
       "      <td>Shamil A. A. Kubba</td>\n",
       "      <td>2006</td>\n",
       "      <td>2006</td>\n",
       "      <td>[Iraq, Mesopotamia]</td>\n",
       "      <td>iraq mesopotamia sumer akkad babylon assyr parthi sassanian mesopotamia</td>\n",
       "      <td>[Ancient Furniture, Antiquities, Civilization, Civilization, Assyro-Babylonian, Furniture, Ancient, Mesolithic period, Furniture, Civilization, assyro-babylonian, Iraq, antiquities, Iraq, history, to 634]</td>\n",
       "      <td>ancientfurniture antiquities civilization civilizationassyrobabylonian furniture furnitureancient iraqantiquities iraqhistoryto634 mesolithicperiod</td>\n",
       "      <td>None</td>\n",
       "      <td></td>\n",
       "      <td>[eng]</td>\n",
       "      <td>1841717649</td>\n",
       "      <td>/works/OL2198172W</td>\n",
       "      <td>https://openlibrary.org/works/OL2198172W</td>\n",
       "    </tr>\n",
       "  </tbody>\n",
       "</table>\n",
       "</div>"
      ],
      "text/plain": [
       "                                  title         author_name  \\\n",
       "3197           From Mesopotamia to Iraq   Hans Jörg Nissen   \n",
       "2213                               Iraq        Michael Wood   \n",
       "1560                        Mesopotamia     Gwendolyn Leick   \n",
       "1828                  Engraved on Stone       Rony Feingold   \n",
       "2769   Mesopotamian sculpture in colour                   N   \n",
       "3244    Mesopotamian medicine and magic   Markham J. Geller   \n",
       "1293                     Rituals of war      Zainab Bahrani   \n",
       "1832        Mathematics in ancient Iraq      Eleanor Robson   \n",
       "3150  Models of Mesopotamian landscapes    Wilkinson, T. J.   \n",
       "3821             Mesopotamian furniture  Shamil A. A. Kubba   \n",
       "\n",
       "      first_publish_year  last_publish_year                place  \\\n",
       "3197                2009               2009               [Iraq]   \n",
       "2213                2002               2002        [Iraq, India]   \n",
       "1560                2001               2002               [Iraq]   \n",
       "1828                2014               2014               [Iraq]   \n",
       "2769                2020               2020               [Iraq]   \n",
       "3244                2018               2018               [Iraq]   \n",
       "1293                2008               2008               [Iraq]   \n",
       "1832                2008               2008               [Iraq]   \n",
       "3150                2013               2013               [Iraq]   \n",
       "3821                2006               2006  [Iraq, Mesopotamia]   \n",
       "\n",
       "                                                                     place_key  \\\n",
       "3197              iraq mesopotamia sumer akkad babylon assyr parthi sassanian    \n",
       "2213        india iraq mesopotamia sumer akkad babylon assyr parthi sassanian    \n",
       "1560              iraq mesopotamia sumer akkad babylon assyr parthi sassanian    \n",
       "1828              iraq mesopotamia sumer akkad babylon assyr parthi sassanian    \n",
       "2769              iraq mesopotamia sumer akkad babylon assyr parthi sassanian    \n",
       "3244              iraq mesopotamia sumer akkad babylon assyr parthi sassanian    \n",
       "1293              iraq mesopotamia sumer akkad babylon assyr parthi sassanian    \n",
       "1832              iraq mesopotamia sumer akkad babylon assyr parthi sassanian    \n",
       "3150              iraq mesopotamia sumer akkad babylon assyr parthi sassanian    \n",
       "3821  iraq mesopotamia sumer akkad babylon assyr parthi sassanian mesopotamia    \n",
       "\n",
       "                                                                                                                                                                                                           subject  \\\n",
       "3197                                                                                                                 [Civilization, History, Historia, Ancient History, Iraq, history, to 634, Iran, civilization]   \n",
       "2213                                                                                                                                                                 [Ancient Civilization, History, Civilization]   \n",
       "1560                                                                                                    [Civilization, Ancient Cities and towns, Iraq, history, to 634, Asia, history, Iraq, antiquities, History]   \n",
       "1828                                                                                                                              [Cylinder seals, Antiquities, History, Cuneiform inscriptions, History, ancient]   \n",
       "2769                                                                                                                                             [Polychromy, History, Antiquities, Ancient Sculpture, Aesthetics]   \n",
       "3244                                                                                                                                   [Medicine, Assyro-Babylonian, Ancient Medicine, Cuneiform tablets, History]   \n",
       "1293                                                                                                        [Ancient History, Ancient Military history, History, History, Ancient, Military history, Ancient, War]   \n",
       "1832                                                                                                                            [History, Mathematics, Ancient Mathematics, Mathematics, history, Education, iraq]   \n",
       "3150                                                                   [Civilization, Human settlements, History, Ancient Civilization, Computer simulation, Civilization, ancient, Iraq, social life and customs]   \n",
       "3821  [Ancient Furniture, Antiquities, Civilization, Civilization, Assyro-Babylonian, Furniture, Ancient, Mesolithic period, Furniture, Civilization, assyro-babylonian, Iraq, antiquities, Iraq, history, to 634]   \n",
       "\n",
       "                                                                                                                                               subject_key  \\\n",
       "3197                                                                       ancienthistory civilization historia history irancivilization iraqhistoryto634    \n",
       "2213                                                                                                             ancientcivilization civilization history    \n",
       "1560                                                              ancientcitiesandtowns asiahistory civilization history iraqantiquities iraqhistoryto634    \n",
       "1828                                                                               antiquities cuneiforminscriptions cylinderseals history historyancient    \n",
       "2769                                                                                           aesthetics ancientsculpture antiquities history polychromy    \n",
       "3244                                                                                    ancientmedicine cuneiformtablets history medicineassyrobabylonian    \n",
       "1293                                                              ancienthistory ancientmilitaryhistory history historyancient militaryhistoryancient war    \n",
       "1832                                                                              ancientmathematics educationiraq history mathematics mathematicshistory    \n",
       "3150                            ancientcivilization civilization civilizationancient computersimulation history humansettlements iraqsociallifeandcustoms    \n",
       "3821  ancientfurniture antiquities civilization civilizationassyrobabylonian furniture furnitureancient iraqantiquities iraqhistoryto634 mesolithicperiod    \n",
       "\n",
       "     person person_key    language           isbn                 key  \\\n",
       "3197   None                  [eng]  9780226586632    /works/OL784385W   \n",
       "2213   None                  [eng]              A  /works/OL34727429W   \n",
       "1560   None             [eng, spa]  9780140265743   /works/OL3961855W   \n",
       "1828   None                  [eng]  9781463201678  /works/OL20955055W   \n",
       "2769   None                  [eng]     393501242X  /works/OL32309789W   \n",
       "3244   None                  [eng]  9789004368064  /works/OL32471087W   \n",
       "1293   None                  [eng]  9781890951849  /works/OL12292502W   \n",
       "1832   None                  [eng]     0691201404   /works/OL1956129W   \n",
       "3150   None                  [eng]     1407311735  /works/OL23153475W   \n",
       "3821   None                  [eng]     1841717649   /works/OL2198172W   \n",
       "\n",
       "                                            url  \n",
       "3197    https://openlibrary.org/works/OL784385W  \n",
       "2213  https://openlibrary.org/works/OL34727429W  \n",
       "1560   https://openlibrary.org/works/OL3961855W  \n",
       "1828  https://openlibrary.org/works/OL20955055W  \n",
       "2769  https://openlibrary.org/works/OL32309789W  \n",
       "3244  https://openlibrary.org/works/OL32471087W  \n",
       "1293  https://openlibrary.org/works/OL12292502W  \n",
       "1832   https://openlibrary.org/works/OL1956129W  \n",
       "3150  https://openlibrary.org/works/OL23153475W  \n",
       "3821   https://openlibrary.org/works/OL2198172W  "
      ]
     },
     "execution_count": 624,
     "metadata": {},
     "output_type": "execute_result"
    }
   ],
   "source": [
    "\n",
    "selection = collapsed_matrix\n",
    "num_results = 10\n",
    "pairwise_dist = pairwise_distances(all_features_df,selection)\n",
    "\n",
    "# np.argsort will return indices of the smallest distances\n",
    "indices = np.argsort(pairwise_dist.flatten())[0:num_results]\n",
    "\n",
    "df_indices = list(df.index[indices])\n",
    "\n",
    "\n",
    "\n",
    "df.loc[df_indices]\n",
    "\n",
    "\n"
   ]
  },
  {
   "cell_type": "code",
   "execution_count": null,
   "id": "8f297ea5-6498-4a60-872e-9b6563257cfb",
   "metadata": {},
   "outputs": [],
   "source": []
  },
  {
   "cell_type": "code",
   "execution_count": null,
   "id": "3f42d81e-442f-4024-9467-2eaf052b3be8",
   "metadata": {},
   "outputs": [],
   "source": []
  },
  {
   "cell_type": "code",
   "execution_count": null,
   "id": "e1cc95f1-b7f3-416f-8a86-f44c83c66f06",
   "metadata": {},
   "outputs": [],
   "source": []
  },
  {
   "cell_type": "code",
   "execution_count": null,
   "id": "d7597405-db33-4626-9b22-130400c5debe",
   "metadata": {},
   "outputs": [],
   "source": []
  },
  {
   "cell_type": "code",
   "execution_count": null,
   "id": "8d6a8b1e-68ba-44ca-9fcd-f4d2e317350a",
   "metadata": {},
   "outputs": [],
   "source": []
  },
  {
   "cell_type": "markdown",
   "id": "b5f05131-6f2e-4d16-afb1-6de99a254679",
   "metadata": {},
   "source": [
    "## Simple example"
   ]
  },
  {
   "cell_type": "code",
   "execution_count": null,
   "id": "aecfd01e-c1ed-46c6-977d-c8cf5e0535e7",
   "metadata": {},
   "outputs": [],
   "source": []
  },
  {
   "cell_type": "code",
   "execution_count": null,
   "id": "f4981f57-4e19-4c29-9d75-937deff694fb",
   "metadata": {},
   "outputs": [
    {
     "data": {
      "text/html": [
       "<div>\n",
       "<style scoped>\n",
       "    .dataframe tbody tr th:only-of-type {\n",
       "        vertical-align: middle;\n",
       "    }\n",
       "\n",
       "    .dataframe tbody tr th {\n",
       "        vertical-align: top;\n",
       "    }\n",
       "\n",
       "    .dataframe thead th {\n",
       "        text-align: right;\n",
       "    }\n",
       "</style>\n",
       "<table border=\"1\" class=\"dataframe\">\n",
       "  <thead>\n",
       "    <tr style=\"text-align: right;\">\n",
       "      <th></th>\n",
       "      <th>names</th>\n",
       "    </tr>\n",
       "  </thead>\n",
       "  <tbody>\n",
       "    <tr>\n",
       "      <th>0</th>\n",
       "      <td>ala</td>\n",
       "    </tr>\n",
       "    <tr>\n",
       "      <th>1</th>\n",
       "      <td>bert</td>\n",
       "    </tr>\n",
       "    <tr>\n",
       "      <th>2</th>\n",
       "      <td>ala bert</td>\n",
       "    </tr>\n",
       "    <tr>\n",
       "      <th>3</th>\n",
       "      <td></td>\n",
       "    </tr>\n",
       "    <tr>\n",
       "      <th>4</th>\n",
       "      <td>ala bert caesar</td>\n",
       "    </tr>\n",
       "    <tr>\n",
       "      <th>5</th>\n",
       "      <td>ala caesar</td>\n",
       "    </tr>\n",
       "  </tbody>\n",
       "</table>\n",
       "</div>"
      ],
      "text/plain": [
       "             names\n",
       "0              ala\n",
       "1             bert\n",
       "2         ala bert\n",
       "3                 \n",
       "4  ala bert caesar\n",
       "5       ala caesar"
      ]
     },
     "execution_count": 544,
     "metadata": {},
     "output_type": "execute_result"
    }
   ],
   "source": [
    "train_df = pd.DataFrame({'names': ['ala', 'bert', 'ala bert', '', 'ala bert caesar', 'ala caesar']})\n",
    "train_df"
   ]
  },
  {
   "cell_type": "code",
   "execution_count": null,
   "id": "b6c35366-2bcc-44d2-989d-dc0ae7ad5229",
   "metadata": {},
   "outputs": [
    {
     "data": {
      "text/plain": [
       "(6, 3)"
      ]
     },
     "execution_count": 545,
     "metadata": {},
     "output_type": "execute_result"
    }
   ],
   "source": [
    "train_vectorizer = CountVectorizer()\n",
    "train_features   = train_vectorizer.fit_transform(train_df['names'])\n",
    "train_features.get_shape()\n"
   ]
  },
  {
   "cell_type": "code",
   "execution_count": null,
   "id": "f6f8f2b9-a16d-42e3-bff6-2c7c5ea04122",
   "metadata": {},
   "outputs": [
    {
     "data": {
      "text/plain": [
       "matrix([[1, 0, 0],\n",
       "        [0, 1, 0],\n",
       "        [1, 1, 0],\n",
       "        [0, 0, 0],\n",
       "        [1, 1, 1],\n",
       "        [1, 0, 1]])"
      ]
     },
     "execution_count": 546,
     "metadata": {},
     "output_type": "execute_result"
    }
   ],
   "source": [
    "train_features.todense()"
   ]
  },
  {
   "cell_type": "code",
   "execution_count": null,
   "id": "9b0be33b-72d8-48d2-91f3-64b80e374bc0",
   "metadata": {},
   "outputs": [
    {
     "data": {
      "text/html": [
       "<div>\n",
       "<style scoped>\n",
       "    .dataframe tbody tr th:only-of-type {\n",
       "        vertical-align: middle;\n",
       "    }\n",
       "\n",
       "    .dataframe tbody tr th {\n",
       "        vertical-align: top;\n",
       "    }\n",
       "\n",
       "    .dataframe thead th {\n",
       "        text-align: right;\n",
       "    }\n",
       "</style>\n",
       "<table border=\"1\" class=\"dataframe\">\n",
       "  <thead>\n",
       "    <tr style=\"text-align: right;\">\n",
       "      <th></th>\n",
       "      <th>names</th>\n",
       "    </tr>\n",
       "  </thead>\n",
       "  <tbody>\n",
       "    <tr>\n",
       "      <th>0</th>\n",
       "      <td>ala caesar</td>\n",
       "    </tr>\n",
       "  </tbody>\n",
       "</table>\n",
       "</div>"
      ],
      "text/plain": [
       "        names\n",
       "0  ala caesar"
      ]
     },
     "execution_count": 547,
     "metadata": {},
     "output_type": "execute_result"
    }
   ],
   "source": [
    "test_df = pd.DataFrame({'names': ['ala caesar']})\n",
    "test_df"
   ]
  },
  {
   "cell_type": "code",
   "execution_count": null,
   "id": "2e3b53b0-6a3f-40b9-8a24-a4144d2330d8",
   "metadata": {},
   "outputs": [
    {
     "data": {
      "text/plain": [
       "(1, 3)"
      ]
     },
     "execution_count": 548,
     "metadata": {},
     "output_type": "execute_result"
    }
   ],
   "source": [
    "test_features   = train_vectorizer.transform(test_df['names'])\n",
    "test_features.get_shape()\n"
   ]
  },
  {
   "cell_type": "code",
   "execution_count": null,
   "id": "06b9d598-af7d-4226-a733-d393e866d75c",
   "metadata": {},
   "outputs": [
    {
     "data": {
      "text/plain": [
       "array([[1, 0, 1]])"
      ]
     },
     "execution_count": 549,
     "metadata": {},
     "output_type": "execute_result"
    }
   ],
   "source": [
    "test_features.toarray()"
   ]
  },
  {
   "cell_type": "code",
   "execution_count": null,
   "id": "294f2f00-8e82-4ecb-ab99-4769a71ba381",
   "metadata": {},
   "outputs": [
    {
     "data": {
      "text/plain": [
       "array([[1.        ],\n",
       "       [1.73205081],\n",
       "       [1.41421356],\n",
       "       [1.41421356],\n",
       "       [1.        ],\n",
       "       [0.        ]])"
      ]
     },
     "execution_count": 550,
     "metadata": {},
     "output_type": "execute_result"
    }
   ],
   "source": [
    "pairwise_dist = pairwise_distances(train_features,test_features)\n",
    "pairwise_dist"
   ]
  },
  {
   "cell_type": "code",
   "execution_count": null,
   "id": "6089e77a-6e82-4c03-8927-74799ba7b966",
   "metadata": {},
   "outputs": [],
   "source": []
  },
  {
   "cell_type": "code",
   "execution_count": null,
   "id": "84a5d371-ea3a-48cb-86ea-65e4bb3e93bc",
   "metadata": {},
   "outputs": [
    {
     "data": {
      "text/plain": [
       "array([5, 0, 4, 2])"
      ]
     },
     "execution_count": 556,
     "metadata": {},
     "output_type": "execute_result"
    }
   ],
   "source": [
    "num_results=4\n",
    "\n",
    "# np.argsort will return indices of the smallest distances\n",
    "indices = np.argsort(pairwise_dist.flatten())[0:num_results]\n",
    "indices\n"
   ]
  },
  {
   "cell_type": "code",
   "execution_count": null,
   "id": "3ccb428c-cd39-4ea5-9d7d-5e74dc4e0191",
   "metadata": {},
   "outputs": [],
   "source": []
  },
  {
   "cell_type": "code",
   "execution_count": null,
   "id": "59e93f13-34b0-4ad8-be91-ead3a9d32789",
   "metadata": {
    "tags": []
   },
   "outputs": [],
   "source": []
  },
  {
   "cell_type": "code",
   "execution_count": null,
   "id": "e0f5f17a-893b-48b9-947c-7a6c4fa60641",
   "metadata": {},
   "outputs": [],
   "source": []
  }
 ],
 "metadata": {
  "kernelspec": {
   "display_name": "Python 3 (ipykernel)",
   "language": "python",
   "name": "python3"
  },
  "language_info": {
   "codemirror_mode": {
    "name": "ipython",
    "version": 3
   },
   "file_extension": ".py",
   "mimetype": "text/x-python",
   "name": "python",
   "nbconvert_exporter": "python",
   "pygments_lexer": "ipython3",
   "version": "3.11.3"
  }
 },
 "nbformat": 4,
 "nbformat_minor": 5
}
