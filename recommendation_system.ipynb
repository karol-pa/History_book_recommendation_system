{
 "cells": [
  {
   "cell_type": "code",
   "execution_count": 345,
   "id": "324d384f-0630-4260-be20-0913f51f111c",
   "metadata": {
    "tags": []
   },
   "outputs": [
    {
     "name": "stderr",
     "output_type": "stream",
     "text": [
      "[nltk_data] Downloading package stopwords to /home/karol/nltk_data...\n",
      "[nltk_data]   Package stopwords is already up-to-date!\n"
     ]
    }
   ],
   "source": [
    "import pandas as pd\n",
    "import numpy as np\n",
    "\n",
    "import nltk\n",
    "from nltk.corpus import stopwords\n",
    "nltk.download('stopwords')\n",
    "\n",
    "import re\n",
    "\n",
    "# download list of stopwords from nltk lib.\n",
    "stop_words = set(stopwords.words('english'))\n",
    "\n",
    "import warnings\n",
    "warnings.filterwarnings('ignore')\n",
    "\n",
    "\n",
    "from sklearn.feature_extraction.text import CountVectorizer\n",
    "\n",
    "from sklearn.metrics import pairwise_distances\n",
    "\n",
    "from scipy.sparse import hstack\n",
    "\n",
    "\n",
    "pd.set_option('display.max_colwidth', None)"
   ]
  },
  {
   "cell_type": "code",
   "execution_count": 452,
   "id": "cc1e2079-96a5-484d-96b4-8802a4439075",
   "metadata": {
    "tags": []
   },
   "outputs": [],
   "source": [
    "def convert_to_string(row, column):\n",
    "    if isinstance(row[column], list):\n",
    "        # If the value is a list, join the strings using a comma\n",
    "        subject_key_str = ' '.join(row[column])\n",
    "    else:\n",
    "        # If the value is a string, just return the string itself\n",
    "        subject_key_str = row[column]\n",
    "    return subject_key_str\n",
    "\n",
    "\n",
    "def nlp_preprocessing(total_text, index, column, dataframe):\n",
    "    if type(total_text) is str:\n",
    "        string = \"\"\n",
    "        for words in total_text.split():\n",
    "            # remove the special chars like '\"#$@!%^&*()_+-~?>< etc.\n",
    "            word = (\"\".join(e for e in words if e.isalnum()))\n",
    "            # Convert all letters to lower-case\n",
    "            word = word.lower()\n",
    "            # stop-word removal\n",
    "            if not word in stop_words:\n",
    "                string += word + \" \"\n",
    "        dataframe[column][index] = string\n",
    "    else:\n",
    "        dataframe[column][index] = \"\"\n",
    "        \n",
    "        \n",
    "\n",
    "def contains(sublist, item):\n",
    "    for l in sublist:\n",
    "        if re.search(r\".*{}.*\".format(item.lower()), l.lower()):\n",
    "            return True\n",
    "    return False\n",
    "        \n",
    "    \n",
    "    \n",
    "all_names = {\n",
    "        'iran': ['iran', 'persia', 'persepolis', 'pasargad', 'elam', 'media'],\n",
    "        'iraq': ['iraq', 'mesopotamia', 'sumer', 'akkad', 'babylon', 'assyr', 'parthi', 'sassanian'],\n",
    "        'united kingdom': ['england','ireland', 'scotland', 'wales', 'london'],\n",
    "        'pakistan': ['pakistan', 'indus', 'mohendsch', 'mohenj'],\n",
    "        'greece': ['greece', 'achaea', 'aeolis', 'arcadia', 'boeotia', 'chalcidice', 'crete', 'cyprus', 'cyzicus', 'delphi', 'dodona', 'euboea', 'epirus', 'etolia', 'heracleia', 'ionia', 'laconia', 'lesbos', 'lydia', 'macedonia', 'megaris', 'messinia', 'mycenae', 'olbia', 'peloponnese', 'phocis', 'phoenicia', 'thebes', 'thessaly', 'crete'],\n",
    "        'albania': ['albania', 'dardania', 'ancient epirus'],\n",
    "        'algeria': ['algeria', 'numidia', 'roman province of mauretania'],\n",
    "        'angola': ['angola', 'kingdom of kongo'],\n",
    "        'armenia': ['armenia', 'urartu', 'arsacid empire'],\n",
    "        'austria': ['austria', 'ostmark', 'roman province of noricum'],\n",
    "        'belarus': ['belarus', 'white rus', 'slavic settlements'],\n",
    "        'belgium': ['belgium', 'belgium', 'roman province of gallia belgica', 'habsburg netherlands'],\n",
    "        'bosnia and herzegovina': ['bosnia and herzegovina', 'bosna', 'hum'],\n",
    "        'bulgaria': ['bulgaria', 'thrace', 'odysian kingdom'],\n",
    "        'croatia': ['croatia', 'panonia', 'illyria'],\n",
    "        'cyprus': ['cyprus', 'cypriot civilization', 'minoan settlements'],\n",
    "        'czechia': ['czech republic', 'czech lands', 'great moravian empire', 'bohemian kingdom'],\n",
    "        'denmark': ['denmark', 'denmark', 'vikings', 'viking age'],\n",
    "        'finland': ['finland', 'finland', 'samoyede'],\n",
    "        'france': ['france', 'gaul', 'celtic tribes', 'roman province of gaul'],\n",
    "        'georgia': ['georgia', 'iberia', 'colchis'],\n",
    "        'germany': ['germany', 'teutonic tribes', 'holy roman empire'], \n",
    "        'hungary': ['hungary', 'hungary', 'avar khaganate'],\n",
    "        'iceland': ['iceland', 'norse settlers', 'viking age'],\n",
    "        'ireland': ['ireland', 'ireland', 'celtic tribes'],\n",
    "        'italy': ['italy', 'latium', 'etruria', 'ausonia', 'enotria', 'roma', 'rome'],\n",
    "        'kazakhstan': ['kazakhstan', 'saka tribes', 'khazar khanate'],\n",
    "        'kosovo': ['kosovo', 'kosovo', 'serbian empire'],\n",
    "        'latvia': ['latvia', 'latvia', 'baltic tribes'],\n",
    "        'lithuania': ['lithuania', 'lithuania', 'baltic tribes'],\n",
    "        'luxembourg': ['luxembourg', 'grand duchy of luxembourg'],\n",
    "        'macedonia': ['macedonia', 'aegae', 'eordaia', 'upper macedonia', 'chalcidice'],\n",
    "        'north macedonia': ['macedonia', 'aegae', 'eordaia', 'upper macedonia', 'chalcidice'],\n",
    "        'moldova': ['moldova', 'dacia', 'roman province of dacia'],\n",
    "        'morocco': ['morocco', 'berber kingdoms'],\n",
    "        'netherlands': ['netherlands', 'low countries', 'frankish empire', 'dutch republic'],\n",
    "        'poland': ['poland', 'vistula river trade routes', 'polish-lithuanian commonwealth'],\n",
    "        'portugal': ['portugal', 'lusitanian tribes', 'roman province of lusitania'],\n",
    "        'romania': ['romania', 'romania', 'dacia', 'roman province of dacia'],\n",
    "        'russia': ['russia', 'scythia', 'sarmatians', 'khazar khanate'],\n",
    "        'serbia': ['serbia', 'serbia', 'serbian empire'],\n",
    "        'slovakia': ['slovakia', 'slovak lands', 'principality of nitra', 'great moravian empire'],\n",
    "        'slovenia': ['slovenia', 'slovenian lands', 'slovenia'],\n",
    "        'spain': ['spain', 'hispania', 'iberian peninsula', 'tartessian civilization', 'numidians', 'roman province of hispanial'],\n",
    "        'switzerland': ['switzerland', 'helvetian confederacy', 'roman province of helvetia'],\n",
    "        'turkey': ['turkey', 'anatolia', 'hittite empire', 'hattu', 'phrygian kingdom', 'phrygia', 'ancient greek colonies'],\n",
    "        'ukraine': ['ukraine', 'kievan rus']\n",
    "        }\n",
    "\n",
    "\n",
    "for k,i in all_names.items():\n",
    "    all_names.update({k:' '.join(all_names[k])})\n",
    "    \n",
    "    \n",
    "def collapse_column(column):\n",
    "    return 1 if any(column) else 0"
   ]
  },
  {
   "cell_type": "code",
   "execution_count": null,
   "id": "c4a5a574-2cb3-4f51-a0f5-ee4fa14fea8b",
   "metadata": {
    "tags": []
   },
   "outputs": [],
   "source": []
  },
  {
   "cell_type": "code",
   "execution_count": null,
   "id": "86a5c1ee-bf57-43ec-89e7-17da23962a40",
   "metadata": {
    "tags": []
   },
   "outputs": [],
   "source": []
  },
  {
   "cell_type": "code",
   "execution_count": 454,
   "id": "cacef032-1a2e-40a8-8c62-5c20c1c65483",
   "metadata": {
    "tags": []
   },
   "outputs": [
    {
     "data": {
      "text/html": [
       "<div>\n",
       "<style scoped>\n",
       "    .dataframe tbody tr th:only-of-type {\n",
       "        vertical-align: middle;\n",
       "    }\n",
       "\n",
       "    .dataframe tbody tr th {\n",
       "        vertical-align: top;\n",
       "    }\n",
       "\n",
       "    .dataframe thead th {\n",
       "        text-align: right;\n",
       "    }\n",
       "</style>\n",
       "<table border=\"1\" class=\"dataframe\">\n",
       "  <thead>\n",
       "    <tr style=\"text-align: right;\">\n",
       "      <th></th>\n",
       "      <th>title</th>\n",
       "      <th>author_name</th>\n",
       "      <th>first_publish_year</th>\n",
       "      <th>last_publish_year</th>\n",
       "      <th>place</th>\n",
       "      <th>place_key</th>\n",
       "      <th>subject</th>\n",
       "      <th>subject_key</th>\n",
       "      <th>person</th>\n",
       "      <th>person_key</th>\n",
       "      <th>language</th>\n",
       "      <th>isbn</th>\n",
       "      <th>key</th>\n",
       "      <th>url</th>\n",
       "    </tr>\n",
       "  </thead>\n",
       "  <tbody>\n",
       "    <tr>\n",
       "      <th>208</th>\n",
       "      <td>Persians</td>\n",
       "      <td>Lloyd Llewellyn-Jones</td>\n",
       "      <td>2022</td>\n",
       "      <td>2022</td>\n",
       "      <td>[Babylon, Egypt, Pasargadae, Persepolis]</td>\n",
       "      <td>babylon egypt pasargadae persepolis</td>\n",
       "      <td>[Persia, ancient history, Asian / Middle Eastern history]</td>\n",
       "      <td>ancienthistory asianmiddleeasternhistory persia</td>\n",
       "      <td>[Alexander, Artaxerxes, Cambyses, Cyrus, Darius, Herodotus, Xerxes]</td>\n",
       "      <td>alexander artaxerxes cambyses cyrus darius herodotus xerxes</td>\n",
       "      <td>[eng]</td>\n",
       "      <td>9781541604230</td>\n",
       "      <td>/works/OL25338087W</td>\n",
       "      <td>https://openlibrary.org/works/OL25338087W</td>\n",
       "    </tr>\n",
       "  </tbody>\n",
       "</table>\n",
       "</div>"
      ],
      "text/plain": [
       "        title            author_name  first_publish_year  last_publish_year  \\\n",
       "208  Persians  Lloyd Llewellyn-Jones                2022               2022   \n",
       "\n",
       "                                        place  \\\n",
       "208  [Babylon, Egypt, Pasargadae, Persepolis]   \n",
       "\n",
       "                                place_key  \\\n",
       "208  babylon egypt pasargadae persepolis    \n",
       "\n",
       "                                                       subject  \\\n",
       "208  [Persia, ancient history, Asian / Middle Eastern history]   \n",
       "\n",
       "                                          subject_key  \\\n",
       "208  ancienthistory asianmiddleeasternhistory persia    \n",
       "\n",
       "                                                                  person  \\\n",
       "208  [Alexander, Artaxerxes, Cambyses, Cyrus, Darius, Herodotus, Xerxes]   \n",
       "\n",
       "                                                       person_key language  \\\n",
       "208  alexander artaxerxes cambyses cyrus darius herodotus xerxes     [eng]   \n",
       "\n",
       "              isbn                 key  \\\n",
       "208  9781541604230  /works/OL25338087W   \n",
       "\n",
       "                                           url  \n",
       "208  https://openlibrary.org/works/OL25338087W  "
      ]
     },
     "execution_count": 454,
     "metadata": {},
     "output_type": "execute_result"
    }
   ],
   "source": [
    "#read full book list and process subject_key text column\n",
    "\n",
    "df = pd.read_json('data/downloaded.json')\n",
    "\n",
    "\n",
    "# Apply convert_to_string function to each row of the 'subject_key' column\n",
    "df['subject_key'] = df.apply(convert_to_string, args=('subject_key',), axis=1)\n",
    "df['place_key'] = df.apply(convert_to_string, args=('place_key',), axis=1)\n",
    "df['person_key'] = df.apply(convert_to_string, args=('person_key',), axis=1)\n",
    "\n",
    "for index, row in df.iterrows():\n",
    "    nlp_preprocessing(row['subject_key'], index, 'subject_key',df)\n",
    "for index, row in df.iterrows():\n",
    "    nlp_preprocessing(row['place_key'], index, 'place_key',df)\n",
    "for index, row in df.iterrows():\n",
    "    nlp_preprocessing(row['person_key'], index, 'person_key',df)\n",
    "    \n",
    "df=df.reset_index(drop=True)\n",
    "\n",
    "df.iloc[[208]]"
   ]
  },
  {
   "cell_type": "code",
   "execution_count": 455,
   "id": "d9169031-eb32-4fc4-a699-e943edbfa736",
   "metadata": {
    "tags": []
   },
   "outputs": [],
   "source": [
    "#df[df['person'].fillna('').apply(contains, item='alexa')]\n"
   ]
  },
  {
   "cell_type": "code",
   "execution_count": 456,
   "id": "1a268ff8-075e-4e44-b3ea-d01d277fb47f",
   "metadata": {
    "tags": []
   },
   "outputs": [],
   "source": [
    "#all_subjects=''\n",
    "#for i in df['subject_key']:\n",
    "#    all_subjects+=i"
   ]
  },
  {
   "cell_type": "code",
   "execution_count": null,
   "id": "7866b0e1-7729-423d-9acf-c83f910b6452",
   "metadata": {
    "tags": []
   },
   "outputs": [],
   "source": []
  },
  {
   "cell_type": "code",
   "execution_count": null,
   "id": "253bd56e-4876-40e8-a626-3b00de143117",
   "metadata": {
    "tags": []
   },
   "outputs": [],
   "source": [
    "\n",
    "\n"
   ]
  },
  {
   "cell_type": "code",
   "execution_count": 457,
   "id": "d1962c8d-d268-4b04-9ead-2b6a99b9ffd9",
   "metadata": {
    "tags": []
   },
   "outputs": [
    {
     "data": {
      "text/html": [
       "<div>\n",
       "<style scoped>\n",
       "    .dataframe tbody tr th:only-of-type {\n",
       "        vertical-align: middle;\n",
       "    }\n",
       "\n",
       "    .dataframe tbody tr th {\n",
       "        vertical-align: top;\n",
       "    }\n",
       "\n",
       "    .dataframe thead th {\n",
       "        text-align: right;\n",
       "    }\n",
       "</style>\n",
       "<table border=\"1\" class=\"dataframe\">\n",
       "  <thead>\n",
       "    <tr style=\"text-align: right;\">\n",
       "      <th></th>\n",
       "      <th>title</th>\n",
       "      <th>author_name</th>\n",
       "      <th>first_publish_year</th>\n",
       "      <th>last_publish_year</th>\n",
       "      <th>place</th>\n",
       "      <th>place_key</th>\n",
       "      <th>subject</th>\n",
       "      <th>subject_key</th>\n",
       "      <th>person</th>\n",
       "      <th>person_key</th>\n",
       "      <th>language</th>\n",
       "      <th>isbn</th>\n",
       "      <th>key</th>\n",
       "      <th>url</th>\n",
       "      <th>favorite</th>\n",
       "    </tr>\n",
       "  </thead>\n",
       "  <tbody>\n",
       "    <tr>\n",
       "      <th>208</th>\n",
       "      <td>Persians</td>\n",
       "      <td>Lloyd Llewellyn-Jones</td>\n",
       "      <td>2022</td>\n",
       "      <td>2022</td>\n",
       "      <td>Babylon,Egypt,Pasargadae,Persepolis</td>\n",
       "      <td>babylon egypt pasargadae persepolis</td>\n",
       "      <td>Persia,ancient history,Asian / Middle Eastern history</td>\n",
       "      <td>ancienthistory asianmiddleeasternhistory persia</td>\n",
       "      <td>Alexander,Artaxerxes,Cambyses,Cyrus,Darius,Herodotus,Xerxes</td>\n",
       "      <td>alexander artaxerxes cambyses cyrus darius herodotus xerxes</td>\n",
       "      <td>eng</td>\n",
       "      <td>9781541604230</td>\n",
       "      <td>/works/OL25338087W</td>\n",
       "      <td>https://openlibrary.org/works/OL25338087W</td>\n",
       "      <td>True</td>\n",
       "    </tr>\n",
       "  </tbody>\n",
       "</table>\n",
       "</div>"
      ],
      "text/plain": [
       "        title            author_name  first_publish_year  last_publish_year  \\\n",
       "208  Persians  Lloyd Llewellyn-Jones                2022               2022   \n",
       "\n",
       "                                   place  \\\n",
       "208  Babylon,Egypt,Pasargadae,Persepolis   \n",
       "\n",
       "                                place_key  \\\n",
       "208  babylon egypt pasargadae persepolis    \n",
       "\n",
       "                                                   subject  \\\n",
       "208  Persia,ancient history,Asian / Middle Eastern history   \n",
       "\n",
       "                                          subject_key  \\\n",
       "208  ancienthistory asianmiddleeasternhistory persia    \n",
       "\n",
       "                                                          person  \\\n",
       "208  Alexander,Artaxerxes,Cambyses,Cyrus,Darius,Herodotus,Xerxes   \n",
       "\n",
       "                                                       person_key language  \\\n",
       "208  alexander artaxerxes cambyses cyrus darius herodotus xerxes       eng   \n",
       "\n",
       "              isbn                 key  \\\n",
       "208  9781541604230  /works/OL25338087W   \n",
       "\n",
       "                                           url  favorite  \n",
       "208  https://openlibrary.org/works/OL25338087W      True  "
      ]
     },
     "execution_count": 457,
     "metadata": {},
     "output_type": "execute_result"
    }
   ],
   "source": [
    "#read selected favorie book list and process subject_key text column\n",
    "\n",
    "df_fav = pd.read_csv('data/my_favs.csv')\n",
    "df_fav= df_fav.set_index('Unnamed: 0')\n",
    "df_fav.index.name = None\n",
    "\n",
    "#fav_subjects=''\n",
    "#for i in df_fav['subject_key']:\n",
    "#    fav_subjects+=i\n",
    " #print(fav_subjects)   \n",
    "    \n",
    "df_fav[\"subject_key\"] = df_fav[\"subject_key\"].str.replace(\",\",\" \")\n",
    "df_fav[\"place_key\"] = df_fav[\"place_key\"].str.replace(\",\",\" \")\n",
    "df_fav[\"person_key\"] = df_fav[\"person_key\"].str.replace(\",\",\" \")\n",
    "\n",
    "for index, row in df_fav.iterrows():\n",
    "    nlp_preprocessing(row['subject_key'], index, 'subject_key',df_fav)\n",
    "for index, row in df_fav.iterrows():\n",
    "    nlp_preprocessing(row['place_key'], index, 'place_key',df_fav)\n",
    "for index, row in df_fav.iterrows():\n",
    "    nlp_preprocessing(row['person_key'], index, 'person_key',df_fav)\n",
    "    \n",
    "    \n",
    "df_fav.head(1)\n",
    "    \n",
    "\n",
    "\n"
   ]
  },
  {
   "cell_type": "code",
   "execution_count": 458,
   "id": "a5dfd0f7-4c7f-49ed-a3ec-882965d019ee",
   "metadata": {
    "tags": []
   },
   "outputs": [
    {
     "data": {
      "text/html": [
       "<div>\n",
       "<style scoped>\n",
       "    .dataframe tbody tr th:only-of-type {\n",
       "        vertical-align: middle;\n",
       "    }\n",
       "\n",
       "    .dataframe tbody tr th {\n",
       "        vertical-align: top;\n",
       "    }\n",
       "\n",
       "    .dataframe thead th {\n",
       "        text-align: right;\n",
       "    }\n",
       "</style>\n",
       "<table border=\"1\" class=\"dataframe\">\n",
       "  <thead>\n",
       "    <tr style=\"text-align: right;\">\n",
       "      <th></th>\n",
       "      <th>title</th>\n",
       "      <th>author_name</th>\n",
       "      <th>first_publish_year</th>\n",
       "      <th>last_publish_year</th>\n",
       "      <th>place</th>\n",
       "      <th>place_key</th>\n",
       "      <th>subject</th>\n",
       "      <th>subject_key</th>\n",
       "      <th>person</th>\n",
       "      <th>person_key</th>\n",
       "      <th>language</th>\n",
       "      <th>isbn</th>\n",
       "      <th>key</th>\n",
       "      <th>url</th>\n",
       "    </tr>\n",
       "  </thead>\n",
       "  <tbody>\n",
       "    <tr>\n",
       "      <th>208</th>\n",
       "      <td>Persians</td>\n",
       "      <td>Lloyd Llewellyn-Jones</td>\n",
       "      <td>2022</td>\n",
       "      <td>2022</td>\n",
       "      <td>[Babylon, Egypt, Pasargadae, Persepolis]</td>\n",
       "      <td>babylon egypt pasargadae persepolis</td>\n",
       "      <td>[Persia, ancient history, Asian / Middle Eastern history]</td>\n",
       "      <td>ancienthistory asianmiddleeasternhistory persia</td>\n",
       "      <td>[Alexander, Artaxerxes, Cambyses, Cyrus, Darius, Herodotus, Xerxes]</td>\n",
       "      <td>alexander artaxerxes cambyses cyrus darius herodotus xerxes</td>\n",
       "      <td>[eng]</td>\n",
       "      <td>9781541604230</td>\n",
       "      <td>/works/OL25338087W</td>\n",
       "      <td>https://openlibrary.org/works/OL25338087W</td>\n",
       "    </tr>\n",
       "  </tbody>\n",
       "</table>\n",
       "</div>"
      ],
      "text/plain": [
       "        title            author_name  first_publish_year  last_publish_year  \\\n",
       "208  Persians  Lloyd Llewellyn-Jones                2022               2022   \n",
       "\n",
       "                                        place  \\\n",
       "208  [Babylon, Egypt, Pasargadae, Persepolis]   \n",
       "\n",
       "                                place_key  \\\n",
       "208  babylon egypt pasargadae persepolis    \n",
       "\n",
       "                                                       subject  \\\n",
       "208  [Persia, ancient history, Asian / Middle Eastern history]   \n",
       "\n",
       "                                          subject_key  \\\n",
       "208  ancienthistory asianmiddleeasternhistory persia    \n",
       "\n",
       "                                                                  person  \\\n",
       "208  [Alexander, Artaxerxes, Cambyses, Cyrus, Darius, Herodotus, Xerxes]   \n",
       "\n",
       "                                                       person_key language  \\\n",
       "208  alexander artaxerxes cambyses cyrus darius herodotus xerxes     [eng]   \n",
       "\n",
       "              isbn                 key  \\\n",
       "208  9781541604230  /works/OL25338087W   \n",
       "\n",
       "                                           url  \n",
       "208  https://openlibrary.org/works/OL25338087W  "
      ]
     },
     "execution_count": 458,
     "metadata": {},
     "output_type": "execute_result"
    }
   ],
   "source": [
    "\n",
    "df.iloc[[208]]"
   ]
  },
  {
   "cell_type": "code",
   "execution_count": 459,
   "id": "e92a31e0-49b1-473e-b9ba-5b15bb601722",
   "metadata": {
    "tags": []
   },
   "outputs": [],
   "source": [
    "df=df[~df.index.isin(df_fav.index)]"
   ]
  },
  {
   "cell_type": "code",
   "execution_count": 460,
   "id": "2a2ad960-ad7d-48a7-a8e2-59565bf345ab",
   "metadata": {
    "tags": []
   },
   "outputs": [
    {
     "data": {
      "text/html": [
       "<div>\n",
       "<style scoped>\n",
       "    .dataframe tbody tr th:only-of-type {\n",
       "        vertical-align: middle;\n",
       "    }\n",
       "\n",
       "    .dataframe tbody tr th {\n",
       "        vertical-align: top;\n",
       "    }\n",
       "\n",
       "    .dataframe thead th {\n",
       "        text-align: right;\n",
       "    }\n",
       "</style>\n",
       "<table border=\"1\" class=\"dataframe\">\n",
       "  <thead>\n",
       "    <tr style=\"text-align: right;\">\n",
       "      <th></th>\n",
       "      <th>title</th>\n",
       "      <th>author_name</th>\n",
       "      <th>first_publish_year</th>\n",
       "      <th>last_publish_year</th>\n",
       "      <th>place</th>\n",
       "      <th>place_key</th>\n",
       "      <th>subject</th>\n",
       "      <th>subject_key</th>\n",
       "      <th>person</th>\n",
       "      <th>person_key</th>\n",
       "      <th>language</th>\n",
       "      <th>isbn</th>\n",
       "      <th>key</th>\n",
       "      <th>url</th>\n",
       "    </tr>\n",
       "  </thead>\n",
       "  <tbody>\n",
       "    <tr>\n",
       "      <th>209</th>\n",
       "      <td>Time in Antiquity</td>\n",
       "      <td>Robert Hannah</td>\n",
       "      <td>2000</td>\n",
       "      <td>2009</td>\n",
       "      <td>None</td>\n",
       "      <td></td>\n",
       "      <td>[Ancient Civilization, History, Social aspects of Time, Time, Time measurements, Classical Civilization, Temps, Histoire, Aspect social, Mesure, Civilisation ancienne, SCIENCE, Social aspects]</td>\n",
       "      <td>ancientcivilization aspectsocial civilisationancienne classicalcivilization histoire history mesure science socialaspects socialaspectsoftime temps time timemeasurements</td>\n",
       "      <td>None</td>\n",
       "      <td></td>\n",
       "      <td>[eng]</td>\n",
       "      <td>1134323131</td>\n",
       "      <td>/works/OL8371761W</td>\n",
       "      <td>https://openlibrary.org/works/OL8371761W</td>\n",
       "    </tr>\n",
       "  </tbody>\n",
       "</table>\n",
       "</div>"
      ],
      "text/plain": [
       "                 title    author_name  first_publish_year  last_publish_year  \\\n",
       "209  Time in Antiquity  Robert Hannah                2000               2009   \n",
       "\n",
       "    place place_key  \\\n",
       "209  None             \n",
       "\n",
       "                                                                                                                                                                                              subject  \\\n",
       "209  [Ancient Civilization, History, Social aspects of Time, Time, Time measurements, Classical Civilization, Temps, Histoire, Aspect social, Mesure, Civilisation ancienne, SCIENCE, Social aspects]   \n",
       "\n",
       "                                                                                                                                                                    subject_key  \\\n",
       "209  ancientcivilization aspectsocial civilisationancienne classicalcivilization histoire history mesure science socialaspects socialaspectsoftime temps time timemeasurements    \n",
       "\n",
       "    person person_key language        isbn                key  \\\n",
       "209   None               [eng]  1134323131  /works/OL8371761W   \n",
       "\n",
       "                                          url  \n",
       "209  https://openlibrary.org/works/OL8371761W  "
      ]
     },
     "execution_count": 460,
     "metadata": {},
     "output_type": "execute_result"
    }
   ],
   "source": [
    "\n",
    "df.iloc[[208]]"
   ]
  },
  {
   "cell_type": "code",
   "execution_count": 461,
   "id": "83578dff-9839-4b1a-9559-f9c26bc78919",
   "metadata": {
    "tags": []
   },
   "outputs": [
    {
     "data": {
      "text/plain": [
       "0                       greece \n",
       "1                              \n",
       "2       greece rome romeempire \n",
       "3                              \n",
       "4                       russia \n",
       "                 ...           \n",
       "4896                     texas \n",
       "4897                           \n",
       "4898                           \n",
       "4899                           \n",
       "4900                           \n",
       "Name: place_key, Length: 4894, dtype: object"
      ]
     },
     "execution_count": 461,
     "metadata": {},
     "output_type": "execute_result"
    }
   ],
   "source": [
    "df['place_key']"
   ]
  },
  {
   "cell_type": "code",
   "execution_count": 462,
   "id": "ad625d47-8ba4-4074-803a-3e0962a021b6",
   "metadata": {
    "tags": []
   },
   "outputs": [],
   "source": [
    "df['place_key']=df['place_key'].replace(all_names, regex=True)"
   ]
  },
  {
   "cell_type": "code",
   "execution_count": 463,
   "id": "4cc1c472-7067-45cf-b84b-b0bc711895b8",
   "metadata": {
    "tags": []
   },
   "outputs": [
    {
     "data": {
      "text/plain": [
       "0                       greece achaea aeolis arcadia boeotia chalcidice crete cyprus cyzicus delphi dodona euboea epirus etolia heracleia ionia laconia lesbos lydia macedonia megaris messinia mycenae olbia peloponnese phocis phoenicia thebes thessaly crete \n",
       "1                                                                                                                                                                                                                                                                \n",
       "2       greece achaea aeolis arcadia boeotia chalcidice crete cyprus cyzicus delphi dodona euboea epirus etolia heracleia ionia laconia lesbos lydia macedonia megaris messinia mycenae olbia peloponnese phocis phoenicia thebes thessaly crete rome romeempire \n",
       "3                                                                                                                                                                                                                                                                \n",
       "4                                                                                                                                                                                                                       russia scythia sarmatians khazar khanate \n",
       "                                                                                                                                  ...                                                                                                                            \n",
       "4896                                                                                                                                                                                                                                                       texas \n",
       "4897                                                                                                                                                                                                                                                             \n",
       "4898                                                                                                                                                                                                                                                             \n",
       "4899                                                                                                                                                                                                                                                             \n",
       "4900                                                                                                                                                                                                                                                             \n",
       "Name: place_key, Length: 4894, dtype: object"
      ]
     },
     "execution_count": 463,
     "metadata": {},
     "output_type": "execute_result"
    }
   ],
   "source": [
    "df['place_key']"
   ]
  },
  {
   "cell_type": "code",
   "execution_count": 464,
   "id": "f1919911-59a9-42aa-849c-79380f994240",
   "metadata": {
    "tags": []
   },
   "outputs": [
    {
     "data": {
      "text/plain": [
       "208     babylon egypt pasargadae persepolis \n",
       "866                                    iraq \n",
       "1560                                   iraq \n",
       "1673                                   iran \n",
       "1689                                   iran \n",
       "1967                                   iran \n",
       "2086                              iran rome \n",
       "Name: place_key, dtype: object"
      ]
     },
     "execution_count": 464,
     "metadata": {},
     "output_type": "execute_result"
    }
   ],
   "source": [
    "df_fav['place_key']"
   ]
  },
  {
   "cell_type": "code",
   "execution_count": 465,
   "id": "b66db2f7-cfb8-4cb0-adcf-f7ea81fd87c3",
   "metadata": {
    "tags": []
   },
   "outputs": [],
   "source": [
    "df_fav['place_key']=df_fav['place_key'].replace(all_names, regex=True)"
   ]
  },
  {
   "cell_type": "code",
   "execution_count": 466,
   "id": "1f3a1dff-cfe4-4a0b-94d2-6e6b00a29019",
   "metadata": {
    "tags": []
   },
   "outputs": [
    {
     "data": {
      "text/plain": [
       "208                             babylon egypt pasargadae persepolis \n",
       "866     iraq mesopotamia sumer akkad babylon assyr parthi sassanian \n",
       "1560    iraq mesopotamia sumer akkad babylon assyr parthi sassanian \n",
       "1673                     iran persia persepolis pasargad elam media \n",
       "1689                     iran persia persepolis pasargad elam media \n",
       "1967                     iran persia persepolis pasargad elam media \n",
       "2086                iran persia persepolis pasargad elam media rome \n",
       "Name: place_key, dtype: object"
      ]
     },
     "execution_count": 466,
     "metadata": {},
     "output_type": "execute_result"
    }
   ],
   "source": [
    "df_fav['place_key']"
   ]
  },
  {
   "cell_type": "markdown",
   "id": "b65325cc-b8aa-49b6-81f7-a583e188cb9a",
   "metadata": {},
   "source": [
    "# Create Bag of Words"
   ]
  },
  {
   "cell_type": "code",
   "execution_count": 467,
   "id": "1573b009-27d9-4148-a5aa-1ecf3aea84e7",
   "metadata": {
    "tags": []
   },
   "outputs": [
    {
     "name": "stdout",
     "output_type": "stream",
     "text": [
      "(4894, 9871)\n",
      "(4894, 624)\n",
      "(4894, 401)\n",
      "(4894, 10896)\n"
     ]
    }
   ],
   "source": [
    "subject_key_vectorizer = CountVectorizer()\n",
    "subject_key_features   = subject_key_vectorizer.fit_transform(df['subject_key'])\n",
    "print( subject_key_features.get_shape() ) \n",
    "\n",
    "place_key_vectorizer = CountVectorizer()\n",
    "place_key_features   = place_key_vectorizer.fit_transform(df['place_key'])\n",
    "print( place_key_features.get_shape() ) \n",
    "\n",
    "person_key_vectorizer = CountVectorizer()\n",
    "person_key_features   = person_key_vectorizer.fit_transform(df['person_key'])\n",
    "print( person_key_features.get_shape() )\n",
    "\n",
    "all_features_df = hstack((subject_key_features, place_key_features,person_key_features)).tocsr()\n",
    "print(all_features_df.get_shape() )"
   ]
  },
  {
   "cell_type": "code",
   "execution_count": 468,
   "id": "ffa5e090-64df-4288-887b-e1272c68d88c",
   "metadata": {
    "tags": []
   },
   "outputs": [
    {
     "name": "stdout",
     "output_type": "stream",
     "text": [
      "(7, 9871)\n",
      "(7, 624)\n",
      "(7, 401)\n",
      "(7, 10896)\n"
     ]
    }
   ],
   "source": [
    "subject_key_features   = subject_key_vectorizer.transform(df_fav['subject_key'])\n",
    "print( subject_key_features.get_shape() ) \n",
    "\n",
    "place_key_features   = place_key_vectorizer.transform(df_fav['place_key'])\n",
    "print( place_key_features.get_shape() ) \n",
    "\n",
    "person_key_features   = person_key_vectorizer.transform(df_fav['person_key'])\n",
    "print( person_key_features.get_shape() )\n",
    "\n",
    "all_features_df_fav = hstack((subject_key_features, place_key_features,person_key_features)).tocsr()\n",
    "print(all_features_df_fav.get_shape() )"
   ]
  },
  {
   "cell_type": "code",
   "execution_count": 469,
   "id": "c17c21dc-11ec-4802-aae6-46d13faafa01",
   "metadata": {
    "tags": []
   },
   "outputs": [
    {
     "data": {
      "text/plain": [
       "(array([0, 0, 0, 0, 0, 0, 1, 1, 1, 1, 1, 1, 1, 1, 1, 1, 1, 1, 1, 1, 1, 1,\n",
       "        1, 1, 2, 2, 2, 2, 2, 2, 2, 2, 2, 2, 2, 2, 2, 2, 3, 3, 3, 3, 3, 3,\n",
       "        3, 3, 3, 4, 4, 4, 4, 4, 4, 4, 4, 4, 4, 5, 5, 5, 5, 5, 5, 5, 5, 5,\n",
       "        5, 5, 6, 6, 6, 6, 6, 6, 6, 6, 6, 6, 6, 6, 6], dtype=int32),\n",
       " array([  373,   896,  9944, 10052, 10318, 10682,   410,   524,  1103,\n",
       "         1879,  4202,  4370,  4824,  5973,  8557,  8566,  9886,  9928,\n",
       "         9944, 10143, 10240, 10312, 10368, 10406,   329,   886,  1879,\n",
       "         4202,  4820,  4824,  9886,  9928,  9944, 10143, 10240, 10312,\n",
       "        10368, 10406,   373,  4202, 10054, 10142, 10234, 10313, 10318,\n",
       "        10319, 10499,  1879,  4134,  4202,  4211, 10054, 10142, 10234,\n",
       "        10313, 10318, 10319,   320,   749,  1527,  4202,  4812, 10054,\n",
       "        10142, 10234, 10313, 10318, 10319,  4202,  4217,  4811,  7259,\n",
       "         8207, 10054, 10142, 10234, 10313, 10318, 10319, 10351, 10551],\n",
       "       dtype=int32))"
      ]
     },
     "execution_count": 469,
     "metadata": {},
     "output_type": "execute_result"
    }
   ],
   "source": [
    "all_features_df_fav.nonzero()"
   ]
  },
  {
   "cell_type": "code",
   "execution_count": null,
   "id": "67ea2f89-896b-4c39-bf37-6d8094986c9d",
   "metadata": {
    "tags": []
   },
   "outputs": [],
   "source": []
  },
  {
   "cell_type": "code",
   "execution_count": 470,
   "id": "62ff5321-f601-46a7-ba02-1fa600cd7a6d",
   "metadata": {
    "tags": []
   },
   "outputs": [
    {
     "name": "stdout",
     "output_type": "stream",
     "text": [
      "[[0 0 1 0 0]]\n"
     ]
    }
   ],
   "source": [
    "\n",
    "# Collapse each column into a matrix of a single row\n",
    "collapsed_matrix = np.array([[collapse_column(i) for i in all_features_df_fav.toarray().T]])\n",
    "\n",
    "print(collapsed_matrix[:,371:376])\n"
   ]
  },
  {
   "cell_type": "markdown",
   "id": "8676121e-04b3-4258-9f56-153eeb088cbb",
   "metadata": {
    "tags": []
   },
   "source": [
    "## For more simultaneous input-books, create a new row in df that contains all the key words of all df_fav books together. Then create a new bag of words"
   ]
  },
  {
   "cell_type": "markdown",
   "id": "cf60aa4f-ab45-4bb0-bd76-3f79547cd318",
   "metadata": {
    "tags": []
   },
   "source": [
    "## Or create a matrix from df_fav and combine all rows together"
   ]
  },
  {
   "cell_type": "code",
   "execution_count": 471,
   "id": "cd60ab6f-9b95-4b60-9cf6-c3d2d7706b11",
   "metadata": {
    "tags": []
   },
   "outputs": [
    {
     "data": {
      "text/plain": [
       "Index([], dtype='int64')"
      ]
     },
     "execution_count": 471,
     "metadata": {},
     "output_type": "execute_result"
    }
   ],
   "source": [
    "df[df.index.isin(df_fav.index)].index"
   ]
  },
  {
   "cell_type": "code",
   "execution_count": 472,
   "id": "28b10e6c-1870-4459-b7e8-a09882f2ac42",
   "metadata": {
    "tags": []
   },
   "outputs": [
    {
     "name": "stdout",
     "output_type": "stream",
     "text": [
      "TITLE : Buyid Coinage\n",
      "AUTHOR: Luke Treadwell\n",
      "Euclidean similarity with the query image : 5.744562646538029\n",
      "============================================================\n",
      "TITLE : Archaeological perspectives on houses and households in third millennium Mesopotamian society\n",
      "AUTHOR: Alessandra Salvin\n",
      "Euclidean similarity with the query image : 5.744562646538029\n",
      "============================================================\n",
      "TITLE : Arsacids and Sasanians\n",
      "AUTHOR: M. Rahim Shayegan\n",
      "Euclidean similarity with the query image : 5.744562646538029\n",
      "============================================================\n",
      "TITLE : From Mesopotamia to Iraq\n",
      "AUTHOR: Hans Jörg Nissen\n",
      "Euclidean similarity with the query image : 5.830951894845301\n",
      "============================================================\n",
      "TITLE : A survey of Persian art from prehistoric times to the present\n",
      "AUTHOR: Abbas Daneshvari\n",
      "Euclidean similarity with the query image : 5.916079783099616\n",
      "============================================================\n",
      "TITLE : Engraved on Stone\n",
      "AUTHOR: Rony Feingold\n",
      "Euclidean similarity with the query image : 5.916079783099616\n",
      "============================================================\n",
      "TITLE : Iraq\n",
      "AUTHOR: Michael Wood\n",
      "Euclidean similarity with the query image : 6.0\n",
      "============================================================\n",
      "TITLE : Rituals of war\n",
      "AUTHOR: Zainab Bahrani\n",
      "Euclidean similarity with the query image : 6.0\n",
      "============================================================\n",
      "TITLE : Intangible spirits and graven images\n",
      "AUTHOR: Michael Shenkar\n",
      "Euclidean similarity with the query image : 6.0\n",
      "============================================================\n",
      "TITLE : Mesopotamian sculpture in colour\n",
      "AUTHOR: N\n",
      "Euclidean similarity with the query image : 6.082762530298219\n",
      "============================================================\n"
     ]
    }
   ],
   "source": [
    "def bag_of_words_model(selection, num_results):\n",
    "    # doc_id: apparel's id in given corpus\n",
    "    \n",
    "    # pairwise_dist will store the distance from given input apparel to all remaining apparels\n",
    "    # the metric we used here is cosine, the coside distance is mesured as K(X, Y) = <X, Y> / (||X||*||Y||)\n",
    "    # http://scikit-learn.org/stable/modules/metrics.html#cosine-similarity\n",
    "    pairwise_dist = pairwise_distances(all_features_df,selection)\n",
    "    \n",
    "    # np.argsort will return indices of the smallest distances\n",
    "    indices = np.argsort(pairwise_dist.flatten())[0:num_results]\n",
    "    #pdists will store the smallest distances\n",
    "    pdists  = np.sort(pairwise_dist.flatten())[0:num_results]\n",
    "\n",
    "    #data frame indices of the 9 smallest distace's\n",
    "    df_indices = list(df.index[indices])\n",
    "    \n",
    "    for i in range(0,len(indices)):\n",
    "        # we will pass 1. doc_id, 2. title1, 3. title2, url, model\n",
    "        #get_result(indices[i],data['title'].loc[df_indices[0]], data['title'].loc[df_indices[i]], data['medium_image_url'].loc[df_indices[i]], 'bag_of_words')\n",
    "        print('TITLE :',df['title'].loc[df_indices[i]])\n",
    "        print ('AUTHOR:', df['author_name'].loc[df_indices[i]])\n",
    "        print ('Euclidean similarity with the query image :', pdists[i])\n",
    "\n",
    "\n",
    "        print('='*60)\n",
    "\n",
    "#call the bag-of-words model for a product to get similar products.\n",
    "bag_of_words_model(collapsed_matrix, 10) # change the index if you want to."
   ]
  },
  {
   "cell_type": "code",
   "execution_count": 473,
   "id": "888c99fa-9b77-49d8-a65f-39942c862f65",
   "metadata": {
    "tags": []
   },
   "outputs": [
    {
     "data": {
      "text/html": [
       "<div>\n",
       "<style scoped>\n",
       "    .dataframe tbody tr th:only-of-type {\n",
       "        vertical-align: middle;\n",
       "    }\n",
       "\n",
       "    .dataframe tbody tr th {\n",
       "        vertical-align: top;\n",
       "    }\n",
       "\n",
       "    .dataframe thead th {\n",
       "        text-align: right;\n",
       "    }\n",
       "</style>\n",
       "<table border=\"1\" class=\"dataframe\">\n",
       "  <thead>\n",
       "    <tr style=\"text-align: right;\">\n",
       "      <th></th>\n",
       "      <th>title</th>\n",
       "      <th>author_name</th>\n",
       "      <th>first_publish_year</th>\n",
       "      <th>last_publish_year</th>\n",
       "      <th>place</th>\n",
       "      <th>place_key</th>\n",
       "      <th>subject</th>\n",
       "      <th>subject_key</th>\n",
       "      <th>person</th>\n",
       "      <th>person_key</th>\n",
       "      <th>language</th>\n",
       "      <th>isbn</th>\n",
       "      <th>key</th>\n",
       "      <th>url</th>\n",
       "      <th>favorite</th>\n",
       "    </tr>\n",
       "  </thead>\n",
       "  <tbody>\n",
       "    <tr>\n",
       "      <th>208</th>\n",
       "      <td>Persians</td>\n",
       "      <td>Lloyd Llewellyn-Jones</td>\n",
       "      <td>2022</td>\n",
       "      <td>2022</td>\n",
       "      <td>Babylon,Egypt,Pasargadae,Persepolis</td>\n",
       "      <td>babylon egypt pasargadae persepolis</td>\n",
       "      <td>Persia,ancient history,Asian / Middle Eastern history</td>\n",
       "      <td>ancienthistory asianmiddleeasternhistory persia</td>\n",
       "      <td>Alexander,Artaxerxes,Cambyses,Cyrus,Darius,Herodotus,Xerxes</td>\n",
       "      <td>alexander artaxerxes cambyses cyrus darius herodotus xerxes</td>\n",
       "      <td>eng</td>\n",
       "      <td>9781541604230</td>\n",
       "      <td>/works/OL25338087W</td>\n",
       "      <td>https://openlibrary.org/works/OL25338087W</td>\n",
       "      <td>True</td>\n",
       "    </tr>\n",
       "    <tr>\n",
       "      <th>866</th>\n",
       "      <td>Everyday Life in Ancient Mesopotamia</td>\n",
       "      <td>Jean Bottéro</td>\n",
       "      <td>2001</td>\n",
       "      <td>2001</td>\n",
       "      <td>Iraq</td>\n",
       "      <td>iraq mesopotamia sumer akkad babylon assyr parthi sassanian</td>\n",
       "      <td>Antiquities,Civilization,History,Ancient Near East,Social history,Mesopotamia,BCE to c 500 CE,History: World,Social life and customs,Iraq, history, to 634</td>\n",
       "      <td>ancientneareast antiquities bcetoc500ce civilization history historyworld iraqhistoryto634 mesopotamia socialhistory sociallifeandcustoms</td>\n",
       "      <td>NaN</td>\n",
       "      <td></td>\n",
       "      <td>eng</td>\n",
       "      <td>9780801868627</td>\n",
       "      <td>/works/OL8396695W</td>\n",
       "      <td>https://openlibrary.org/works/OL8396695W</td>\n",
       "      <td>True</td>\n",
       "    </tr>\n",
       "    <tr>\n",
       "      <th>1560</th>\n",
       "      <td>Mesopotamia</td>\n",
       "      <td>Gwendolyn Leick</td>\n",
       "      <td>2001</td>\n",
       "      <td>2002</td>\n",
       "      <td>Iraq</td>\n",
       "      <td>iraq mesopotamia sumer akkad babylon assyr parthi sassanian</td>\n",
       "      <td>Civilization,Ancient Cities and towns,Iraq, history, to 634,Asia, history,Iraq, antiquities,History</td>\n",
       "      <td>ancientcitiesandtowns asiahistory civilization history iraqantiquities iraqhistoryto634</td>\n",
       "      <td>NaN</td>\n",
       "      <td></td>\n",
       "      <td>eng,spa</td>\n",
       "      <td>9780140265743</td>\n",
       "      <td>/works/OL3961855W</td>\n",
       "      <td>https://openlibrary.org/works/OL3961855W</td>\n",
       "      <td>True</td>\n",
       "    </tr>\n",
       "    <tr>\n",
       "      <th>1673</th>\n",
       "      <td>Excavating an empire</td>\n",
       "      <td>Touraj Daryaee</td>\n",
       "      <td>2014</td>\n",
       "      <td>2014</td>\n",
       "      <td>Iran</td>\n",
       "      <td>iran persia persepolis pasargad elam media</td>\n",
       "      <td>History,Ancient History</td>\n",
       "      <td>ancienthistory history</td>\n",
       "      <td>Achaemenid dynasty (559-330 B.C)</td>\n",
       "      <td>achaemeniddynasty559330bc</td>\n",
       "      <td>eng</td>\n",
       "      <td>9781568592985</td>\n",
       "      <td>/works/OL23318927W</td>\n",
       "      <td>https://openlibrary.org/works/OL23318927W</td>\n",
       "      <td>True</td>\n",
       "    </tr>\n",
       "    <tr>\n",
       "      <th>1689</th>\n",
       "      <td>The Persian empire</td>\n",
       "      <td>Allen, Lindsay.</td>\n",
       "      <td>2005</td>\n",
       "      <td>2005</td>\n",
       "      <td>Iran</td>\n",
       "      <td>iran persia persepolis pasargad elam media</td>\n",
       "      <td>Civilization,History,History, ancient,Perzische rijk,Histoire</td>\n",
       "      <td>civilization histoire history historyancient perzischerijk</td>\n",
       "      <td>NaN</td>\n",
       "      <td></td>\n",
       "      <td>eng</td>\n",
       "      <td>9780226014470</td>\n",
       "      <td>/works/OL5844839W</td>\n",
       "      <td>https://openlibrary.org/works/OL5844839W</td>\n",
       "      <td>True</td>\n",
       "    </tr>\n",
       "    <tr>\n",
       "      <th>1967</th>\n",
       "      <td>Persian art</td>\n",
       "      <td>Vladimir Loukonine</td>\n",
       "      <td>1998</td>\n",
       "      <td>2012</td>\n",
       "      <td>Iran</td>\n",
       "      <td>iran persia persepolis pasargad elam media</td>\n",
       "      <td>Ancient Art,Iranian Art,History,Catalogs,Art</td>\n",
       "      <td>ancientart art catalogs history iranianart</td>\n",
       "      <td>NaN</td>\n",
       "      <td></td>\n",
       "      <td>eng</td>\n",
       "      <td>9781859951675</td>\n",
       "      <td>/works/OL20325135W</td>\n",
       "      <td>https://openlibrary.org/works/OL20325135W</td>\n",
       "      <td>True</td>\n",
       "    </tr>\n",
       "    <tr>\n",
       "      <th>2086</th>\n",
       "      <td>Arsacids and Sasanians</td>\n",
       "      <td>M. Rahim Shayegan</td>\n",
       "      <td>2011</td>\n",
       "      <td>2011</td>\n",
       "      <td>Rome,Iran</td>\n",
       "      <td>iran persia persepolis pasargad elam media rome</td>\n",
       "      <td>History,Sassanids,HISTORY / Ancient / General,Political science,Iran, history, to 640</td>\n",
       "      <td>history historyancientgeneral iranhistoryto640 politicalscience sassanids</td>\n",
       "      <td>Arsacid dynasty (247 B.C.-224 A.D)</td>\n",
       "      <td>arsaciddynasty247bc224ad</td>\n",
       "      <td>eng</td>\n",
       "      <td>9780521766418</td>\n",
       "      <td>/works/OL16414417W</td>\n",
       "      <td>https://openlibrary.org/works/OL16414417W</td>\n",
       "      <td>True</td>\n",
       "    </tr>\n",
       "  </tbody>\n",
       "</table>\n",
       "</div>"
      ],
      "text/plain": [
       "                                     title            author_name  \\\n",
       "208                               Persians  Lloyd Llewellyn-Jones   \n",
       "866   Everyday Life in Ancient Mesopotamia           Jean Bottéro   \n",
       "1560                           Mesopotamia        Gwendolyn Leick   \n",
       "1673                  Excavating an empire         Touraj Daryaee   \n",
       "1689                    The Persian empire        Allen, Lindsay.   \n",
       "1967                           Persian art     Vladimir Loukonine   \n",
       "2086                Arsacids and Sasanians      M. Rahim Shayegan   \n",
       "\n",
       "      first_publish_year  last_publish_year  \\\n",
       "208                 2022               2022   \n",
       "866                 2001               2001   \n",
       "1560                2001               2002   \n",
       "1673                2014               2014   \n",
       "1689                2005               2005   \n",
       "1967                1998               2012   \n",
       "2086                2011               2011   \n",
       "\n",
       "                                    place  \\\n",
       "208   Babylon,Egypt,Pasargadae,Persepolis   \n",
       "866                                  Iraq   \n",
       "1560                                 Iraq   \n",
       "1673                                 Iran   \n",
       "1689                                 Iran   \n",
       "1967                                 Iran   \n",
       "2086                            Rome,Iran   \n",
       "\n",
       "                                                         place_key  \\\n",
       "208                           babylon egypt pasargadae persepolis    \n",
       "866   iraq mesopotamia sumer akkad babylon assyr parthi sassanian    \n",
       "1560  iraq mesopotamia sumer akkad babylon assyr parthi sassanian    \n",
       "1673                   iran persia persepolis pasargad elam media    \n",
       "1689                   iran persia persepolis pasargad elam media    \n",
       "1967                   iran persia persepolis pasargad elam media    \n",
       "2086              iran persia persepolis pasargad elam media rome    \n",
       "\n",
       "                                                                                                                                                         subject  \\\n",
       "208                                                                                                        Persia,ancient history,Asian / Middle Eastern history   \n",
       "866   Antiquities,Civilization,History,Ancient Near East,Social history,Mesopotamia,BCE to c 500 CE,History: World,Social life and customs,Iraq, history, to 634   \n",
       "1560                                                         Civilization,Ancient Cities and towns,Iraq, history, to 634,Asia, history,Iraq, antiquities,History   \n",
       "1673                                                                                                                                     History,Ancient History   \n",
       "1689                                                                                               Civilization,History,History, ancient,Perzische rijk,Histoire   \n",
       "1967                                                                                                                Ancient Art,Iranian Art,History,Catalogs,Art   \n",
       "2086                                                                       History,Sassanids,HISTORY / Ancient / General,Political science,Iran, history, to 640   \n",
       "\n",
       "                                                                                                                                     subject_key  \\\n",
       "208                                                                                             ancienthistory asianmiddleeasternhistory persia    \n",
       "866   ancientneareast antiquities bcetoc500ce civilization history historyworld iraqhistoryto634 mesopotamia socialhistory sociallifeandcustoms    \n",
       "1560                                                    ancientcitiesandtowns asiahistory civilization history iraqantiquities iraqhistoryto634    \n",
       "1673                                                                                                                     ancienthistory history    \n",
       "1689                                                                                 civilization histoire history historyancient perzischerijk    \n",
       "1967                                                                                                 ancientart art catalogs history iranianart    \n",
       "2086                                                                  history historyancientgeneral iranhistoryto640 politicalscience sassanids    \n",
       "\n",
       "                                                           person  \\\n",
       "208   Alexander,Artaxerxes,Cambyses,Cyrus,Darius,Herodotus,Xerxes   \n",
       "866                                                           NaN   \n",
       "1560                                                          NaN   \n",
       "1673                             Achaemenid dynasty (559-330 B.C)   \n",
       "1689                                                          NaN   \n",
       "1967                                                          NaN   \n",
       "2086                           Arsacid dynasty (247 B.C.-224 A.D)   \n",
       "\n",
       "                                                        person_key language  \\\n",
       "208   alexander artaxerxes cambyses cyrus darius herodotus xerxes       eng   \n",
       "866                                                                     eng   \n",
       "1560                                                                eng,spa   \n",
       "1673                                    achaemeniddynasty559330bc       eng   \n",
       "1689                                                                    eng   \n",
       "1967                                                                    eng   \n",
       "2086                                     arsaciddynasty247bc224ad       eng   \n",
       "\n",
       "               isbn                 key  \\\n",
       "208   9781541604230  /works/OL25338087W   \n",
       "866   9780801868627   /works/OL8396695W   \n",
       "1560  9780140265743   /works/OL3961855W   \n",
       "1673  9781568592985  /works/OL23318927W   \n",
       "1689  9780226014470   /works/OL5844839W   \n",
       "1967  9781859951675  /works/OL20325135W   \n",
       "2086  9780521766418  /works/OL16414417W   \n",
       "\n",
       "                                            url  favorite  \n",
       "208   https://openlibrary.org/works/OL25338087W      True  \n",
       "866    https://openlibrary.org/works/OL8396695W      True  \n",
       "1560   https://openlibrary.org/works/OL3961855W      True  \n",
       "1673  https://openlibrary.org/works/OL23318927W      True  \n",
       "1689   https://openlibrary.org/works/OL5844839W      True  \n",
       "1967  https://openlibrary.org/works/OL20325135W      True  \n",
       "2086  https://openlibrary.org/works/OL16414417W      True  "
      ]
     },
     "execution_count": 473,
     "metadata": {},
     "output_type": "execute_result"
    }
   ],
   "source": [
    "df_fav"
   ]
  },
  {
   "cell_type": "code",
   "execution_count": null,
   "id": "4340a022-49be-474e-b0a5-7f7de7c9ab3b",
   "metadata": {},
   "outputs": [],
   "source": []
  }
 ],
 "metadata": {
  "kernelspec": {
   "display_name": "Python 3 (ipykernel)",
   "language": "python",
   "name": "python3"
  },
  "language_info": {
   "codemirror_mode": {
    "name": "ipython",
    "version": 3
   },
   "file_extension": ".py",
   "mimetype": "text/x-python",
   "name": "python",
   "nbconvert_exporter": "python",
   "pygments_lexer": "ipython3",
   "version": "3.11.3"
  }
 },
 "nbformat": 4,
 "nbformat_minor": 5
}
